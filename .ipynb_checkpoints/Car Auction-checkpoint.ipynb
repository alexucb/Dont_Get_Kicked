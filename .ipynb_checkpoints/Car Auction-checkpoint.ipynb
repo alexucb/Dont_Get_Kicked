{
 "cells": [
  {
   "cell_type": "code",
   "execution_count": 1,
   "metadata": {
    "collapsed": true
   },
   "outputs": [],
   "source": [
    "from __future__ import division, print_function, unicode_literals\n",
    "\n",
    "# Common imports\n",
    "import numpy as np\n",
    "import pandas as pd\n",
    "import os\n",
    "import seaborn as sns\n",
    "\n",
    "# to make this notebook's output stable across runs\n",
    "np.random.seed(42)\n",
    "\n",
    "# To plot pretty figures\n",
    "%matplotlib inline\n",
    "import matplotlib\n",
    "import matplotlib.pyplot as plt\n",
    "plt.rcParams['axes.labelsize'] = 14\n",
    "plt.rcParams['xtick.labelsize'] = 12\n",
    "plt.rcParams['ytick.labelsize'] = 12\n",
    "\n",
    "# Where to save the figures\n",
    "PROJECT_ROOT_DIR = \".\"\n",
    "\n",
    "def image_path(fig_id):\n",
    "    return os.path.join(PROJECT_ROOT_DIR, \"images\", fig_id)\n",
    "\n",
    "def save_fig(fig_id, tight_layout=True):\n",
    "    print(\"Saving figure\", fig_id)\n",
    "    if tight_layout:\n",
    "        plt.tight_layout()\n",
    "    plt.savefig(image_path(fig_id) + \".png\", format='png', dpi=300)"
   ]
  },
  {
   "cell_type": "markdown",
   "metadata": {},
   "source": [
    "# 1. Take A Quick Look"
   ]
  },
  {
   "cell_type": "code",
   "execution_count": 2,
   "metadata": {},
   "outputs": [
    {
     "data": {
      "text/html": [
       "<div>\n",
       "<style>\n",
       "    .dataframe thead tr:only-child th {\n",
       "        text-align: right;\n",
       "    }\n",
       "\n",
       "    .dataframe thead th {\n",
       "        text-align: left;\n",
       "    }\n",
       "\n",
       "    .dataframe tbody tr th {\n",
       "        vertical-align: top;\n",
       "    }\n",
       "</style>\n",
       "<table border=\"1\" class=\"dataframe\">\n",
       "  <thead>\n",
       "    <tr style=\"text-align: right;\">\n",
       "      <th></th>\n",
       "      <th>RefId</th>\n",
       "      <th>IsBadBuy</th>\n",
       "      <th>PurchDate</th>\n",
       "      <th>Auction</th>\n",
       "      <th>VehYear</th>\n",
       "      <th>VehicleAge</th>\n",
       "      <th>Make</th>\n",
       "      <th>Model</th>\n",
       "      <th>Trim</th>\n",
       "      <th>SubModel</th>\n",
       "      <th>...</th>\n",
       "      <th>MMRCurrentRetailAveragePrice</th>\n",
       "      <th>MMRCurrentRetailCleanPrice</th>\n",
       "      <th>PRIMEUNIT</th>\n",
       "      <th>AUCGUART</th>\n",
       "      <th>BYRNO</th>\n",
       "      <th>VNZIP1</th>\n",
       "      <th>VNST</th>\n",
       "      <th>VehBCost</th>\n",
       "      <th>IsOnlineSale</th>\n",
       "      <th>WarrantyCost</th>\n",
       "    </tr>\n",
       "  </thead>\n",
       "  <tbody>\n",
       "    <tr>\n",
       "      <th>0</th>\n",
       "      <td>1</td>\n",
       "      <td>0</td>\n",
       "      <td>12/7/2009</td>\n",
       "      <td>ADESA</td>\n",
       "      <td>2006</td>\n",
       "      <td>3</td>\n",
       "      <td>MAZDA</td>\n",
       "      <td>MAZDA3</td>\n",
       "      <td>i</td>\n",
       "      <td>4D SEDAN I</td>\n",
       "      <td>...</td>\n",
       "      <td>11597.0</td>\n",
       "      <td>12409.0</td>\n",
       "      <td>NaN</td>\n",
       "      <td>NaN</td>\n",
       "      <td>21973</td>\n",
       "      <td>33619</td>\n",
       "      <td>FL</td>\n",
       "      <td>7100.0</td>\n",
       "      <td>0</td>\n",
       "      <td>1113</td>\n",
       "    </tr>\n",
       "    <tr>\n",
       "      <th>1</th>\n",
       "      <td>2</td>\n",
       "      <td>0</td>\n",
       "      <td>12/7/2009</td>\n",
       "      <td>ADESA</td>\n",
       "      <td>2004</td>\n",
       "      <td>5</td>\n",
       "      <td>DODGE</td>\n",
       "      <td>1500 RAM PICKUP 2WD</td>\n",
       "      <td>ST</td>\n",
       "      <td>QUAD CAB 4.7L SLT</td>\n",
       "      <td>...</td>\n",
       "      <td>11374.0</td>\n",
       "      <td>12791.0</td>\n",
       "      <td>NaN</td>\n",
       "      <td>NaN</td>\n",
       "      <td>19638</td>\n",
       "      <td>33619</td>\n",
       "      <td>FL</td>\n",
       "      <td>7600.0</td>\n",
       "      <td>0</td>\n",
       "      <td>1053</td>\n",
       "    </tr>\n",
       "    <tr>\n",
       "      <th>2</th>\n",
       "      <td>3</td>\n",
       "      <td>0</td>\n",
       "      <td>12/7/2009</td>\n",
       "      <td>ADESA</td>\n",
       "      <td>2005</td>\n",
       "      <td>4</td>\n",
       "      <td>DODGE</td>\n",
       "      <td>STRATUS V6</td>\n",
       "      <td>SXT</td>\n",
       "      <td>4D SEDAN SXT FFV</td>\n",
       "      <td>...</td>\n",
       "      <td>7146.0</td>\n",
       "      <td>8702.0</td>\n",
       "      <td>NaN</td>\n",
       "      <td>NaN</td>\n",
       "      <td>19638</td>\n",
       "      <td>33619</td>\n",
       "      <td>FL</td>\n",
       "      <td>4900.0</td>\n",
       "      <td>0</td>\n",
       "      <td>1389</td>\n",
       "    </tr>\n",
       "    <tr>\n",
       "      <th>3</th>\n",
       "      <td>4</td>\n",
       "      <td>0</td>\n",
       "      <td>12/7/2009</td>\n",
       "      <td>ADESA</td>\n",
       "      <td>2004</td>\n",
       "      <td>5</td>\n",
       "      <td>DODGE</td>\n",
       "      <td>NEON</td>\n",
       "      <td>SXT</td>\n",
       "      <td>4D SEDAN</td>\n",
       "      <td>...</td>\n",
       "      <td>4375.0</td>\n",
       "      <td>5518.0</td>\n",
       "      <td>NaN</td>\n",
       "      <td>NaN</td>\n",
       "      <td>19638</td>\n",
       "      <td>33619</td>\n",
       "      <td>FL</td>\n",
       "      <td>4100.0</td>\n",
       "      <td>0</td>\n",
       "      <td>630</td>\n",
       "    </tr>\n",
       "    <tr>\n",
       "      <th>4</th>\n",
       "      <td>5</td>\n",
       "      <td>0</td>\n",
       "      <td>12/7/2009</td>\n",
       "      <td>ADESA</td>\n",
       "      <td>2005</td>\n",
       "      <td>4</td>\n",
       "      <td>FORD</td>\n",
       "      <td>FOCUS</td>\n",
       "      <td>ZX3</td>\n",
       "      <td>2D COUPE ZX3</td>\n",
       "      <td>...</td>\n",
       "      <td>6739.0</td>\n",
       "      <td>7911.0</td>\n",
       "      <td>NaN</td>\n",
       "      <td>NaN</td>\n",
       "      <td>19638</td>\n",
       "      <td>33619</td>\n",
       "      <td>FL</td>\n",
       "      <td>4000.0</td>\n",
       "      <td>0</td>\n",
       "      <td>1020</td>\n",
       "    </tr>\n",
       "    <tr>\n",
       "      <th>5</th>\n",
       "      <td>6</td>\n",
       "      <td>0</td>\n",
       "      <td>12/7/2009</td>\n",
       "      <td>ADESA</td>\n",
       "      <td>2004</td>\n",
       "      <td>5</td>\n",
       "      <td>MITSUBISHI</td>\n",
       "      <td>GALANT 4C</td>\n",
       "      <td>ES</td>\n",
       "      <td>4D SEDAN ES</td>\n",
       "      <td>...</td>\n",
       "      <td>8149.0</td>\n",
       "      <td>9451.0</td>\n",
       "      <td>NaN</td>\n",
       "      <td>NaN</td>\n",
       "      <td>19638</td>\n",
       "      <td>33619</td>\n",
       "      <td>FL</td>\n",
       "      <td>5600.0</td>\n",
       "      <td>0</td>\n",
       "      <td>594</td>\n",
       "    </tr>\n",
       "    <tr>\n",
       "      <th>6</th>\n",
       "      <td>7</td>\n",
       "      <td>0</td>\n",
       "      <td>12/7/2009</td>\n",
       "      <td>ADESA</td>\n",
       "      <td>2004</td>\n",
       "      <td>5</td>\n",
       "      <td>KIA</td>\n",
       "      <td>SPECTRA</td>\n",
       "      <td>EX</td>\n",
       "      <td>4D SEDAN EX</td>\n",
       "      <td>...</td>\n",
       "      <td>6230.0</td>\n",
       "      <td>8603.0</td>\n",
       "      <td>NaN</td>\n",
       "      <td>NaN</td>\n",
       "      <td>19638</td>\n",
       "      <td>33619</td>\n",
       "      <td>FL</td>\n",
       "      <td>4200.0</td>\n",
       "      <td>0</td>\n",
       "      <td>533</td>\n",
       "    </tr>\n",
       "    <tr>\n",
       "      <th>7</th>\n",
       "      <td>8</td>\n",
       "      <td>0</td>\n",
       "      <td>12/7/2009</td>\n",
       "      <td>ADESA</td>\n",
       "      <td>2005</td>\n",
       "      <td>4</td>\n",
       "      <td>FORD</td>\n",
       "      <td>TAURUS</td>\n",
       "      <td>SE</td>\n",
       "      <td>4D SEDAN SE</td>\n",
       "      <td>...</td>\n",
       "      <td>6942.0</td>\n",
       "      <td>8242.0</td>\n",
       "      <td>NaN</td>\n",
       "      <td>NaN</td>\n",
       "      <td>19638</td>\n",
       "      <td>33619</td>\n",
       "      <td>FL</td>\n",
       "      <td>4500.0</td>\n",
       "      <td>0</td>\n",
       "      <td>825</td>\n",
       "    </tr>\n",
       "    <tr>\n",
       "      <th>8</th>\n",
       "      <td>9</td>\n",
       "      <td>0</td>\n",
       "      <td>12/7/2009</td>\n",
       "      <td>ADESA</td>\n",
       "      <td>2007</td>\n",
       "      <td>2</td>\n",
       "      <td>KIA</td>\n",
       "      <td>SPECTRA</td>\n",
       "      <td>EX</td>\n",
       "      <td>4D SEDAN EX</td>\n",
       "      <td>...</td>\n",
       "      <td>9637.0</td>\n",
       "      <td>10778.0</td>\n",
       "      <td>NaN</td>\n",
       "      <td>NaN</td>\n",
       "      <td>21973</td>\n",
       "      <td>33619</td>\n",
       "      <td>FL</td>\n",
       "      <td>5600.0</td>\n",
       "      <td>0</td>\n",
       "      <td>482</td>\n",
       "    </tr>\n",
       "    <tr>\n",
       "      <th>9</th>\n",
       "      <td>10</td>\n",
       "      <td>0</td>\n",
       "      <td>12/7/2009</td>\n",
       "      <td>ADESA</td>\n",
       "      <td>2007</td>\n",
       "      <td>2</td>\n",
       "      <td>FORD</td>\n",
       "      <td>FIVE HUNDRED</td>\n",
       "      <td>SEL</td>\n",
       "      <td>4D SEDAN SEL</td>\n",
       "      <td>...</td>\n",
       "      <td>12580.0</td>\n",
       "      <td>14845.0</td>\n",
       "      <td>NaN</td>\n",
       "      <td>NaN</td>\n",
       "      <td>21973</td>\n",
       "      <td>33619</td>\n",
       "      <td>FL</td>\n",
       "      <td>7700.0</td>\n",
       "      <td>0</td>\n",
       "      <td>1633</td>\n",
       "    </tr>\n",
       "  </tbody>\n",
       "</table>\n",
       "<p>10 rows × 34 columns</p>\n",
       "</div>"
      ],
      "text/plain": [
       "   RefId  IsBadBuy  PurchDate Auction  VehYear  VehicleAge        Make  \\\n",
       "0      1         0  12/7/2009   ADESA     2006           3       MAZDA   \n",
       "1      2         0  12/7/2009   ADESA     2004           5       DODGE   \n",
       "2      3         0  12/7/2009   ADESA     2005           4       DODGE   \n",
       "3      4         0  12/7/2009   ADESA     2004           5       DODGE   \n",
       "4      5         0  12/7/2009   ADESA     2005           4        FORD   \n",
       "5      6         0  12/7/2009   ADESA     2004           5  MITSUBISHI   \n",
       "6      7         0  12/7/2009   ADESA     2004           5         KIA   \n",
       "7      8         0  12/7/2009   ADESA     2005           4        FORD   \n",
       "8      9         0  12/7/2009   ADESA     2007           2         KIA   \n",
       "9     10         0  12/7/2009   ADESA     2007           2        FORD   \n",
       "\n",
       "                 Model Trim           SubModel      ...       \\\n",
       "0               MAZDA3    i         4D SEDAN I      ...        \n",
       "1  1500 RAM PICKUP 2WD   ST  QUAD CAB 4.7L SLT      ...        \n",
       "2           STRATUS V6  SXT   4D SEDAN SXT FFV      ...        \n",
       "3                 NEON  SXT           4D SEDAN      ...        \n",
       "4                FOCUS  ZX3       2D COUPE ZX3      ...        \n",
       "5            GALANT 4C   ES        4D SEDAN ES      ...        \n",
       "6              SPECTRA   EX        4D SEDAN EX      ...        \n",
       "7               TAURUS   SE        4D SEDAN SE      ...        \n",
       "8              SPECTRA   EX        4D SEDAN EX      ...        \n",
       "9         FIVE HUNDRED  SEL       4D SEDAN SEL      ...        \n",
       "\n",
       "  MMRCurrentRetailAveragePrice MMRCurrentRetailCleanPrice  PRIMEUNIT AUCGUART  \\\n",
       "0                      11597.0                    12409.0        NaN      NaN   \n",
       "1                      11374.0                    12791.0        NaN      NaN   \n",
       "2                       7146.0                     8702.0        NaN      NaN   \n",
       "3                       4375.0                     5518.0        NaN      NaN   \n",
       "4                       6739.0                     7911.0        NaN      NaN   \n",
       "5                       8149.0                     9451.0        NaN      NaN   \n",
       "6                       6230.0                     8603.0        NaN      NaN   \n",
       "7                       6942.0                     8242.0        NaN      NaN   \n",
       "8                       9637.0                    10778.0        NaN      NaN   \n",
       "9                      12580.0                    14845.0        NaN      NaN   \n",
       "\n",
       "   BYRNO VNZIP1 VNST VehBCost  IsOnlineSale  WarrantyCost  \n",
       "0  21973  33619   FL   7100.0             0          1113  \n",
       "1  19638  33619   FL   7600.0             0          1053  \n",
       "2  19638  33619   FL   4900.0             0          1389  \n",
       "3  19638  33619   FL   4100.0             0           630  \n",
       "4  19638  33619   FL   4000.0             0          1020  \n",
       "5  19638  33619   FL   5600.0             0           594  \n",
       "6  19638  33619   FL   4200.0             0           533  \n",
       "7  19638  33619   FL   4500.0             0           825  \n",
       "8  21973  33619   FL   5600.0             0           482  \n",
       "9  21973  33619   FL   7700.0             0          1633  \n",
       "\n",
       "[10 rows x 34 columns]"
      ]
     },
     "execution_count": 2,
     "metadata": {},
     "output_type": "execute_result"
    }
   ],
   "source": [
    "training = pd.read_csv('./training.csv')\n",
    "test = pd.read_csv('./test.csv')\n",
    "\n",
    "# first look at data \n",
    "training.head(10)"
   ]
  },
  {
   "cell_type": "code",
   "execution_count": 3,
   "metadata": {},
   "outputs": [
    {
     "data": {
      "text/html": [
       "<div>\n",
       "<style>\n",
       "    .dataframe thead tr:only-child th {\n",
       "        text-align: right;\n",
       "    }\n",
       "\n",
       "    .dataframe thead th {\n",
       "        text-align: left;\n",
       "    }\n",
       "\n",
       "    .dataframe tbody tr th {\n",
       "        vertical-align: top;\n",
       "    }\n",
       "</style>\n",
       "<table border=\"1\" class=\"dataframe\">\n",
       "  <thead>\n",
       "    <tr style=\"text-align: right;\">\n",
       "      <th></th>\n",
       "      <th>count</th>\n",
       "      <th>mean</th>\n",
       "      <th>std</th>\n",
       "      <th>min</th>\n",
       "      <th>25%</th>\n",
       "      <th>50%</th>\n",
       "      <th>75%</th>\n",
       "      <th>max</th>\n",
       "    </tr>\n",
       "  </thead>\n",
       "  <tbody>\n",
       "    <tr>\n",
       "      <th>RefId</th>\n",
       "      <td>72983.0</td>\n",
       "      <td>36511.428497</td>\n",
       "      <td>21077.241302</td>\n",
       "      <td>1.0</td>\n",
       "      <td>18257.5</td>\n",
       "      <td>36514.0</td>\n",
       "      <td>54764.5</td>\n",
       "      <td>73014.0</td>\n",
       "    </tr>\n",
       "    <tr>\n",
       "      <th>IsBadBuy</th>\n",
       "      <td>72983.0</td>\n",
       "      <td>0.122988</td>\n",
       "      <td>0.328425</td>\n",
       "      <td>0.0</td>\n",
       "      <td>0.0</td>\n",
       "      <td>0.0</td>\n",
       "      <td>0.0</td>\n",
       "      <td>1.0</td>\n",
       "    </tr>\n",
       "    <tr>\n",
       "      <th>VehYear</th>\n",
       "      <td>72983.0</td>\n",
       "      <td>2005.343052</td>\n",
       "      <td>1.731252</td>\n",
       "      <td>2001.0</td>\n",
       "      <td>2004.0</td>\n",
       "      <td>2005.0</td>\n",
       "      <td>2007.0</td>\n",
       "      <td>2010.0</td>\n",
       "    </tr>\n",
       "    <tr>\n",
       "      <th>VehicleAge</th>\n",
       "      <td>72983.0</td>\n",
       "      <td>4.176644</td>\n",
       "      <td>1.712210</td>\n",
       "      <td>0.0</td>\n",
       "      <td>3.0</td>\n",
       "      <td>4.0</td>\n",
       "      <td>5.0</td>\n",
       "      <td>9.0</td>\n",
       "    </tr>\n",
       "    <tr>\n",
       "      <th>WheelTypeID</th>\n",
       "      <td>69814.0</td>\n",
       "      <td>1.494299</td>\n",
       "      <td>0.521290</td>\n",
       "      <td>0.0</td>\n",
       "      <td>1.0</td>\n",
       "      <td>1.0</td>\n",
       "      <td>2.0</td>\n",
       "      <td>3.0</td>\n",
       "    </tr>\n",
       "    <tr>\n",
       "      <th>VehOdo</th>\n",
       "      <td>72983.0</td>\n",
       "      <td>71499.995917</td>\n",
       "      <td>14578.913128</td>\n",
       "      <td>4825.0</td>\n",
       "      <td>61837.0</td>\n",
       "      <td>73361.0</td>\n",
       "      <td>82436.0</td>\n",
       "      <td>115717.0</td>\n",
       "    </tr>\n",
       "    <tr>\n",
       "      <th>MMRAcquisitionAuctionAveragePrice</th>\n",
       "      <td>72965.0</td>\n",
       "      <td>6128.909217</td>\n",
       "      <td>2461.992768</td>\n",
       "      <td>0.0</td>\n",
       "      <td>4273.0</td>\n",
       "      <td>6097.0</td>\n",
       "      <td>7765.0</td>\n",
       "      <td>35722.0</td>\n",
       "    </tr>\n",
       "    <tr>\n",
       "      <th>MMRAcquisitionAuctionCleanPrice</th>\n",
       "      <td>72965.0</td>\n",
       "      <td>7373.636031</td>\n",
       "      <td>2722.491986</td>\n",
       "      <td>0.0</td>\n",
       "      <td>5406.0</td>\n",
       "      <td>7303.0</td>\n",
       "      <td>9021.0</td>\n",
       "      <td>36859.0</td>\n",
       "    </tr>\n",
       "    <tr>\n",
       "      <th>MMRAcquisitionRetailAveragePrice</th>\n",
       "      <td>72965.0</td>\n",
       "      <td>8497.034332</td>\n",
       "      <td>3156.285284</td>\n",
       "      <td>0.0</td>\n",
       "      <td>6280.0</td>\n",
       "      <td>8444.0</td>\n",
       "      <td>10651.0</td>\n",
       "      <td>39080.0</td>\n",
       "    </tr>\n",
       "    <tr>\n",
       "      <th>MMRAcquisitonRetailCleanPrice</th>\n",
       "      <td>72965.0</td>\n",
       "      <td>9850.928240</td>\n",
       "      <td>3385.789541</td>\n",
       "      <td>0.0</td>\n",
       "      <td>7493.0</td>\n",
       "      <td>9789.0</td>\n",
       "      <td>12088.0</td>\n",
       "      <td>41482.0</td>\n",
       "    </tr>\n",
       "    <tr>\n",
       "      <th>MMRCurrentAuctionAveragePrice</th>\n",
       "      <td>72668.0</td>\n",
       "      <td>6132.081287</td>\n",
       "      <td>2434.567723</td>\n",
       "      <td>0.0</td>\n",
       "      <td>4275.0</td>\n",
       "      <td>6062.0</td>\n",
       "      <td>7736.0</td>\n",
       "      <td>35722.0</td>\n",
       "    </tr>\n",
       "    <tr>\n",
       "      <th>MMRCurrentAuctionCleanPrice</th>\n",
       "      <td>72668.0</td>\n",
       "      <td>7390.681827</td>\n",
       "      <td>2686.248852</td>\n",
       "      <td>0.0</td>\n",
       "      <td>5414.0</td>\n",
       "      <td>7313.0</td>\n",
       "      <td>9013.0</td>\n",
       "      <td>36859.0</td>\n",
       "    </tr>\n",
       "    <tr>\n",
       "      <th>MMRCurrentRetailAveragePrice</th>\n",
       "      <td>72668.0</td>\n",
       "      <td>8775.723331</td>\n",
       "      <td>3090.702941</td>\n",
       "      <td>0.0</td>\n",
       "      <td>6536.0</td>\n",
       "      <td>8729.0</td>\n",
       "      <td>10911.0</td>\n",
       "      <td>39080.0</td>\n",
       "    </tr>\n",
       "    <tr>\n",
       "      <th>MMRCurrentRetailCleanPrice</th>\n",
       "      <td>72668.0</td>\n",
       "      <td>10145.385314</td>\n",
       "      <td>3310.254351</td>\n",
       "      <td>0.0</td>\n",
       "      <td>7784.0</td>\n",
       "      <td>10103.0</td>\n",
       "      <td>12309.0</td>\n",
       "      <td>41062.0</td>\n",
       "    </tr>\n",
       "    <tr>\n",
       "      <th>BYRNO</th>\n",
       "      <td>72983.0</td>\n",
       "      <td>26345.842155</td>\n",
       "      <td>25717.351219</td>\n",
       "      <td>835.0</td>\n",
       "      <td>17212.0</td>\n",
       "      <td>19662.0</td>\n",
       "      <td>22808.0</td>\n",
       "      <td>99761.0</td>\n",
       "    </tr>\n",
       "    <tr>\n",
       "      <th>VNZIP1</th>\n",
       "      <td>72983.0</td>\n",
       "      <td>58043.059945</td>\n",
       "      <td>26151.640415</td>\n",
       "      <td>2764.0</td>\n",
       "      <td>32124.0</td>\n",
       "      <td>73108.0</td>\n",
       "      <td>80022.0</td>\n",
       "      <td>99224.0</td>\n",
       "    </tr>\n",
       "    <tr>\n",
       "      <th>VehBCost</th>\n",
       "      <td>72983.0</td>\n",
       "      <td>6730.934326</td>\n",
       "      <td>1767.846435</td>\n",
       "      <td>1.0</td>\n",
       "      <td>5435.0</td>\n",
       "      <td>6700.0</td>\n",
       "      <td>7900.0</td>\n",
       "      <td>45469.0</td>\n",
       "    </tr>\n",
       "    <tr>\n",
       "      <th>IsOnlineSale</th>\n",
       "      <td>72983.0</td>\n",
       "      <td>0.025280</td>\n",
       "      <td>0.156975</td>\n",
       "      <td>0.0</td>\n",
       "      <td>0.0</td>\n",
       "      <td>0.0</td>\n",
       "      <td>0.0</td>\n",
       "      <td>1.0</td>\n",
       "    </tr>\n",
       "    <tr>\n",
       "      <th>WarrantyCost</th>\n",
       "      <td>72983.0</td>\n",
       "      <td>1276.580985</td>\n",
       "      <td>598.846788</td>\n",
       "      <td>462.0</td>\n",
       "      <td>837.0</td>\n",
       "      <td>1155.0</td>\n",
       "      <td>1623.0</td>\n",
       "      <td>7498.0</td>\n",
       "    </tr>\n",
       "  </tbody>\n",
       "</table>\n",
       "</div>"
      ],
      "text/plain": [
       "                                     count          mean           std  \\\n",
       "RefId                              72983.0  36511.428497  21077.241302   \n",
       "IsBadBuy                           72983.0      0.122988      0.328425   \n",
       "VehYear                            72983.0   2005.343052      1.731252   \n",
       "VehicleAge                         72983.0      4.176644      1.712210   \n",
       "WheelTypeID                        69814.0      1.494299      0.521290   \n",
       "VehOdo                             72983.0  71499.995917  14578.913128   \n",
       "MMRAcquisitionAuctionAveragePrice  72965.0   6128.909217   2461.992768   \n",
       "MMRAcquisitionAuctionCleanPrice    72965.0   7373.636031   2722.491986   \n",
       "MMRAcquisitionRetailAveragePrice   72965.0   8497.034332   3156.285284   \n",
       "MMRAcquisitonRetailCleanPrice      72965.0   9850.928240   3385.789541   \n",
       "MMRCurrentAuctionAveragePrice      72668.0   6132.081287   2434.567723   \n",
       "MMRCurrentAuctionCleanPrice        72668.0   7390.681827   2686.248852   \n",
       "MMRCurrentRetailAveragePrice       72668.0   8775.723331   3090.702941   \n",
       "MMRCurrentRetailCleanPrice         72668.0  10145.385314   3310.254351   \n",
       "BYRNO                              72983.0  26345.842155  25717.351219   \n",
       "VNZIP1                             72983.0  58043.059945  26151.640415   \n",
       "VehBCost                           72983.0   6730.934326   1767.846435   \n",
       "IsOnlineSale                       72983.0      0.025280      0.156975   \n",
       "WarrantyCost                       72983.0   1276.580985    598.846788   \n",
       "\n",
       "                                      min      25%      50%      75%       max  \n",
       "RefId                                 1.0  18257.5  36514.0  54764.5   73014.0  \n",
       "IsBadBuy                              0.0      0.0      0.0      0.0       1.0  \n",
       "VehYear                            2001.0   2004.0   2005.0   2007.0    2010.0  \n",
       "VehicleAge                            0.0      3.0      4.0      5.0       9.0  \n",
       "WheelTypeID                           0.0      1.0      1.0      2.0       3.0  \n",
       "VehOdo                             4825.0  61837.0  73361.0  82436.0  115717.0  \n",
       "MMRAcquisitionAuctionAveragePrice     0.0   4273.0   6097.0   7765.0   35722.0  \n",
       "MMRAcquisitionAuctionCleanPrice       0.0   5406.0   7303.0   9021.0   36859.0  \n",
       "MMRAcquisitionRetailAveragePrice      0.0   6280.0   8444.0  10651.0   39080.0  \n",
       "MMRAcquisitonRetailCleanPrice         0.0   7493.0   9789.0  12088.0   41482.0  \n",
       "MMRCurrentAuctionAveragePrice         0.0   4275.0   6062.0   7736.0   35722.0  \n",
       "MMRCurrentAuctionCleanPrice           0.0   5414.0   7313.0   9013.0   36859.0  \n",
       "MMRCurrentRetailAveragePrice          0.0   6536.0   8729.0  10911.0   39080.0  \n",
       "MMRCurrentRetailCleanPrice            0.0   7784.0  10103.0  12309.0   41062.0  \n",
       "BYRNO                               835.0  17212.0  19662.0  22808.0   99761.0  \n",
       "VNZIP1                             2764.0  32124.0  73108.0  80022.0   99224.0  \n",
       "VehBCost                              1.0   5435.0   6700.0   7900.0   45469.0  \n",
       "IsOnlineSale                          0.0      0.0      0.0      0.0       1.0  \n",
       "WarrantyCost                        462.0    837.0   1155.0   1623.0    7498.0  "
      ]
     },
     "execution_count": 3,
     "metadata": {},
     "output_type": "execute_result"
    }
   ],
   "source": [
    "# statistics of the numerial features\n",
    "training.describe().transpose()"
   ]
  },
  {
   "cell_type": "code",
   "execution_count": 4,
   "metadata": {},
   "outputs": [
    {
     "name": "stdout",
     "output_type": "stream",
     "text": [
      "0    0.877012\n",
      "1    0.122988\n",
      "Name: IsBadBuy, dtype: float64\n"
     ]
    },
    {
     "data": {
      "text/plain": [
       "<matplotlib.axes._subplots.AxesSubplot at 0x2824ec6ab00>"
      ]
     },
     "execution_count": 4,
     "metadata": {},
     "output_type": "execute_result"
    },
    {
     "data": {
      "image/png": "[encoded data removed]",
      "text/plain": [
       "<matplotlib.figure.Figure at 0x2824ec57898>"
      ]
     },
     "metadata": {},
     "output_type": "display_data"
    }
   ],
   "source": [
    "# look at the distribution of our interest: isbadbuy\n",
    "prop_buy = training['IsBadBuy'].value_counts()/len(training)\n",
    "print(prop_buy)\n",
    "prop_buy.plot(kind = 'pie')"
   ]
  },
  {
   "cell_type": "code",
   "execution_count": 5,
   "metadata": {},
   "outputs": [
    {
     "data": {
      "text/plain": [
       "RefId                                 0.000000\n",
       "IsBadBuy                              0.000000\n",
       "PurchDate                             0.000000\n",
       "Auction                               0.000000\n",
       "VehYear                               0.000000\n",
       "VehicleAge                            0.000000\n",
       "Make                                  0.000000\n",
       "Model                                 0.000000\n",
       "Trim                                  3.233630\n",
       "SubModel                              0.010961\n",
       "Color                                 0.010961\n",
       "Transmission                          0.012332\n",
       "WheelTypeID                           4.342107\n",
       "WheelType                             4.348958\n",
       "VehOdo                                0.000000\n",
       "Nationality                           0.006851\n",
       "Size                                  0.006851\n",
       "TopThreeAmericanName                  0.006851\n",
       "MMRAcquisitionAuctionAveragePrice     0.024663\n",
       "MMRAcquisitionAuctionCleanPrice       0.024663\n",
       "MMRAcquisitionRetailAveragePrice      0.024663\n",
       "MMRAcquisitonRetailCleanPrice         0.024663\n",
       "MMRCurrentAuctionAveragePrice         0.431607\n",
       "MMRCurrentAuctionCleanPrice           0.431607\n",
       "MMRCurrentRetailAveragePrice          0.431607\n",
       "MMRCurrentRetailCleanPrice            0.431607\n",
       "PRIMEUNIT                            95.315347\n",
       "AUCGUART                             95.315347\n",
       "BYRNO                                 0.000000\n",
       "VNZIP1                                0.000000\n",
       "VNST                                  0.000000\n",
       "VehBCost                              0.000000\n",
       "IsOnlineSale                          0.000000\n",
       "WarrantyCost                          0.000000\n",
       "dtype: float64"
      ]
     },
     "execution_count": 5,
     "metadata": {},
     "output_type": "execute_result"
    }
   ],
   "source": [
    "# NA statistics\n",
    "training.isnull().sum().div(len(training), axis = 0)*100"
   ]
  },
  {
   "cell_type": "markdown",
   "metadata": {},
   "source": [
    "Double check whether the missing values are from goodbuy or badbuy."
   ]
  },
  {
   "cell_type": "code",
   "execution_count": 6,
   "metadata": {},
   "outputs": [
    {
     "data": {
      "text/plain": [
       "0    83.198827\n",
       "1    12.116520\n",
       "Name: IsBadBuy, dtype: float64"
      ]
     },
     "execution_count": 6,
     "metadata": {},
     "output_type": "execute_result"
    }
   ],
   "source": [
    "training.loc[training.PRIMEUNIT.isnull()]['IsBadBuy'].value_counts()/len(training)*100"
   ]
  },
  {
   "cell_type": "code",
   "execution_count": 7,
   "metadata": {},
   "outputs": [
    {
     "data": {
      "text/plain": [
       "0    83.198827\n",
       "1    12.116520\n",
       "Name: IsBadBuy, dtype: float64"
      ]
     },
     "execution_count": 7,
     "metadata": {},
     "output_type": "execute_result"
    }
   ],
   "source": [
    "training.loc[training.AUCGUART.isnull()]['IsBadBuy'].value_counts()/len(training)*100"
   ]
  },
  {
   "cell_type": "markdown",
   "metadata": {},
   "source": [
    "From the list above, we can see that these two features'PRIMEUNIT' and 'AUCGUART' have around 95% missing data, which limits their uses. \n",
    "\n",
    "PRIMEUNIT: Identifies if the vehicle would have a higher demand than a standard purchase\n",
    "\n",
    "AUCGUART: The level guarntee provided by auction for the vehicle (Green light - Guaranteed/arbitratable, Yellow Light - caution/issue, red light - sold as is)\n",
    "\n",
    "Also, there is no preference of missing values from good or bad buy. (83.2% vs 87.7%)"
   ]
  },
  {
   "cell_type": "code",
   "execution_count": 8,
   "metadata": {
    "collapsed": true
   },
   "outputs": [],
   "source": [
    "drop_list = ['PRIMEUNIT', 'AUCGUART']"
   ]
  },
  {
   "cell_type": "markdown",
   "metadata": {},
   "source": [
    "## Numerical Features"
   ]
  },
  {
   "cell_type": "code",
   "execution_count": 9,
   "metadata": {
    "collapsed": true
   },
   "outputs": [],
   "source": [
    "numerical_features = training.select_dtypes(include = ['float64', 'int64', 'bool']).columns.values\n",
    "categorical_features = training.select_dtypes(include = ['object']).columns.values"
   ]
  },
  {
   "cell_type": "code",
   "execution_count": 10,
   "metadata": {},
   "outputs": [
    {
     "data": {
      "text/plain": [
       "array(['RefId', 'IsBadBuy', 'VehYear', 'VehicleAge', 'WheelTypeID',\n",
       "       'VehOdo', 'MMRAcquisitionAuctionAveragePrice',\n",
       "       'MMRAcquisitionAuctionCleanPrice',\n",
       "       'MMRAcquisitionRetailAveragePrice', 'MMRAcquisitonRetailCleanPrice',\n",
       "       'MMRCurrentAuctionAveragePrice', 'MMRCurrentAuctionCleanPrice',\n",
       "       'MMRCurrentRetailAveragePrice', 'MMRCurrentRetailCleanPrice',\n",
       "       'BYRNO', 'VNZIP1', 'VehBCost', 'IsOnlineSale', 'WarrantyCost'], dtype=object)"
      ]
     },
     "execution_count": 10,
     "metadata": {},
     "output_type": "execute_result"
    }
   ],
   "source": [
    "numerical_features"
   ]
  },
  {
   "cell_type": "markdown",
   "metadata": {},
   "source": [
    "## Text and Categorical Features"
   ]
  },
  {
   "cell_type": "code",
   "execution_count": 11,
   "metadata": {},
   "outputs": [
    {
     "data": {
      "text/plain": [
       "array(['PurchDate', 'Auction', 'Make', 'Model', 'Trim', 'SubModel',\n",
       "       'Color', 'Transmission', 'WheelType', 'Nationality', 'Size',\n",
       "       'TopThreeAmericanName', 'PRIMEUNIT', 'AUCGUART', 'VNST'], dtype=object)"
      ]
     },
     "execution_count": 11,
     "metadata": {},
     "output_type": "execute_result"
    }
   ],
   "source": [
    "categorical_features"
   ]
  },
  {
   "cell_type": "code",
   "execution_count": 12,
   "metadata": {
    "collapsed": true
   },
   "outputs": [],
   "source": [
    "# before we drop and modify the traning and test datasets, make copies of them\n",
    "df_training = training.copy()\n",
    "df_test = test.copy()"
   ]
  },
  {
   "cell_type": "markdown",
   "metadata": {},
   "source": [
    "# 2. Drop Features"
   ]
  },
  {
   "cell_type": "markdown",
   "metadata": {},
   "source": [
    "Through the missing value statistics, we drop 'PRIMEUNIT', 'AUCGUART'. Let's discuss the rest features and give justification why I decide to drop them."
   ]
  },
  {
   "cell_type": "markdown",
   "metadata": {},
   "source": [
    "1. 'RefID': it is used to assigned to vehicles and has no information for us to predict auction.\n",
    "2. 'PurchDate': the tractions took places within a year. I assume it reflects less information.\n",
    "3. 'Model', 'Trim' and 'SubModel': 'SubModel' almost contains everything we want to define the configuration of a car. Since we have already 'Size' features, I plan not to define the type of car like SUV. Three features are extracted from this variable:\n",
    "a. sport car or not: bool\n",
    "b. luxury car or not: bool\n",
    "c. Engine size like 4.3L: float64\n",
    "4. 'WheelTypeID': it has no information for us to predict auction.\n",
    "5. 'KickDate': not shown on the datasets\n",
    "6. 'BYRNO': it has no information for us to predict auction.\n",
    "7. 'VNZIP' and 'VNST': drop it at this moment. Maybe we can combine this geographical feature with the economic information like medium incomes or car sales in the future. I would love to plot it in Tableau to see the geographical distribution. I will leave it later if I have time."
   ]
  },
  {
   "cell_type": "code",
   "execution_count": 13,
   "metadata": {
    "collapsed": true
   },
   "outputs": [],
   "source": [
    "drop_list = ['PRIMEUNIT', 'AUCGUART', 'RefId', 'PurchDate', 'Model', 'Trim', \n",
    "             'SubModel', 'WheelType', 'BYRNO', 'VNZIP1', 'VNST']"
   ]
  },
  {
   "cell_type": "code",
   "execution_count": 14,
   "metadata": {
    "collapsed": true
   },
   "outputs": [],
   "source": [
    "for df in [df_training, df_test]:\n",
    "    # add sport feature\n",
    "    df['Sport'] = df.SubModel.str.contains('SPORT').astype('bool')\n",
    "    # add luxury feature\n",
    "    df['Luxury'] = df.SubModel.str.contains('LUXURY').astype('bool')\n",
    "    # add engine feature\n",
    "    df['Engine'] = df.SubModel.str.extract('\\s+(\\d+.\\d+)L', expand = True).astype('float64')\n",
    "\n",
    "# now we can start the drop list\n",
    "for df in [df_training, df_test]:\n",
    "    df.drop(drop_list, axis=1, inplace=True)"
   ]
  },
  {
   "cell_type": "code",
   "execution_count": null,
   "metadata": {
    "collapsed": true
   },
   "outputs": [],
   "source": []
  },
  {
   "cell_type": "code",
   "execution_count": 15,
   "metadata": {},
   "outputs": [
    {
     "name": "stdout",
     "output_type": "stream",
     "text": [
      "['IsBadBuy' 'VehYear' 'VehicleAge' 'WheelTypeID' 'VehOdo'\n",
      " 'MMRAcquisitionAuctionAveragePrice' 'MMRAcquisitionAuctionCleanPrice'\n",
      " 'MMRAcquisitionRetailAveragePrice' 'MMRAcquisitonRetailCleanPrice'\n",
      " 'MMRCurrentAuctionAveragePrice' 'MMRCurrentAuctionCleanPrice'\n",
      " 'MMRCurrentRetailAveragePrice' 'MMRCurrentRetailCleanPrice' 'VehBCost'\n",
      " 'IsOnlineSale' 'WarrantyCost' 'Sport' 'Luxury' 'Engine']\n",
      "['Auction' 'Make' 'Color' 'Transmission' 'Nationality' 'Size'\n",
      " 'TopThreeAmericanName']\n"
     ]
    }
   ],
   "source": [
    "# now check the numerical_features and categorical_features in the current model\n",
    "numerical_features = df_training.select_dtypes(include = ['float64', 'int64', 'bool']).columns.values\n",
    "categorical_features = df_training.select_dtypes(include = ['object']).columns.values\n",
    "print(numerical_features)\n",
    "print(categorical_features)"
   ]
  },
  {
   "cell_type": "code",
   "execution_count": 16,
   "metadata": {},
   "outputs": [
    {
     "name": "stdout",
     "output_type": "stream",
     "text": [
      "Saving figure attribute_histogram_plots\n"
     ]
    },
    {
     "data": {
      "image/png": "[encoded data removed]",
      "text/plain": [
       "<matplotlib.figure.Figure at 0x2824ecb9e10>"
      ]
     },
     "metadata": {},
     "output_type": "display_data"
    }
   ],
   "source": [
    "df_training.hist(bins=10, figsize=(20,15))\n",
    "save_fig(\"attribute_histogram_plots\")\n",
    "plt.tight_layout()\n",
    "plt.show()"
   ]
  },
  {
   "cell_type": "code",
   "execution_count": 17,
   "metadata": {},
   "outputs": [
    {
     "name": "stdout",
     "output_type": "stream",
     "text": [
      "Saving figure covariance matrix heatmap\n"
     ]
    },
    {
     "data": {
      "image/png": "[encoded data removed]",
      "text/plain": [
       "<matplotlib.figure.Figure at 0x28250ba38d0>"
      ]
     },
     "metadata": {},
     "output_type": "display_data"
    }
   ],
   "source": [
    "corr = df_training[numerical_features].corr()\n",
    "\n",
    "mask = np.zeros_like(corr, dtype=np.bool)\n",
    "mask[np.triu_indices_from(mask)] = True\n",
    "\n",
    "f, ax = plt.subplots(figsize=(10, 8))\n",
    "\n",
    "cmap = sns.diverging_palette(220, 10, as_cmap=True)\n",
    "\n",
    "sns.heatmap(corr, mask=mask, cmap=cmap, vmax=1, center=0,\n",
    "            square=True, linewidths=.5, cbar_kws={\"shrink\": .5})\n",
    "save_fig(\"covariance matrix heatmap\")"
   ]
  },
  {
   "cell_type": "code",
   "execution_count": 18,
   "metadata": {},
   "outputs": [
    {
     "data": {
      "text/plain": [
       "IsBadBuy                             1.000000\n",
       "VehicleAge                           0.167164\n",
       "VehOdo                               0.082560\n",
       "WarrantyCost                         0.052319\n",
       "Engine                               0.027818\n",
       "Sport                                0.020061\n",
       "Luxury                               0.000048\n",
       "IsOnlineSale                        -0.003697\n",
       "WheelTypeID                         -0.044620\n",
       "MMRAcquisitonRetailCleanPrice       -0.083665\n",
       "MMRAcquisitionRetailAveragePrice    -0.087418\n",
       "VehBCost                            -0.099911\n",
       "MMRCurrentRetailCleanPrice          -0.100245\n",
       "MMRAcquisitionAuctionCleanPrice     -0.102954\n",
       "MMRCurrentRetailAveragePrice        -0.103914\n",
       "MMRCurrentAuctionCleanPrice         -0.104020\n",
       "MMRCurrentAuctionAveragePrice       -0.109112\n",
       "MMRAcquisitionAuctionAveragePrice   -0.109252\n",
       "VehYear                             -0.158886\n",
       "Name: IsBadBuy, dtype: float64"
      ]
     },
     "execution_count": 18,
     "metadata": {},
     "output_type": "execute_result"
    }
   ],
   "source": [
    "corr[\"IsBadBuy\"].sort_values(ascending=False)"
   ]
  },
  {
   "cell_type": "markdown",
   "metadata": {},
   "source": [
    "Since 'MMR'-like features are highly correlated, I plan to use 'MMRCurrentAuctionAveragePirce' only to simplify my model. The justification is that it has relativly high abslute value of covariance. Also, choosing the current and average price of auction makes sense because it is close to the market situation."
   ]
  },
  {
   "cell_type": "code",
   "execution_count": 19,
   "metadata": {
    "collapsed": true
   },
   "outputs": [],
   "source": [
    "drop_list_2 = ['MMRAcquisitionAuctionAveragePrice', 'MMRAcquisitionAuctionCleanPrice', \n",
    "             'MMRAcquisitionRetailAveragePrice', 'MMRAcquisitonRetailCleanPrice', \n",
    "             'MMRCurrentAuctionCleanPrice', 'MMRCurrentRetailAveragePrice', 'MMRCurrentRetailCleanPrice']\n",
    "for df in [df_training, df_test]:\n",
    "    df.drop(drop_list_2, axis=1, inplace=True)\n",
    "\n",
    "numerical_features = df_training.select_dtypes(include = ['float64', 'int64', 'bool']).columns.values\n",
    "# not choose 'IsBadBuy'\n",
    "numerical_features = numerical_features[1:]\n",
    "categorical_features = df_training.select_dtypes(include = ['object']).columns.values"
   ]
  },
  {
   "cell_type": "code",
   "execution_count": 20,
   "metadata": {},
   "outputs": [
    {
     "name": "stdout",
     "output_type": "stream",
     "text": [
      "Auction, Miss Value 0\n",
      "Make, Miss Value 0\n",
      "Color, Miss Value 8\n",
      "Transmission, Miss Value 9\n",
      "Nationality, Miss Value 5\n",
      "Size, Miss Value 5\n",
      "TopThreeAmericanName, Miss Value 5\n"
     ]
    }
   ],
   "source": [
    "for feature in categorical_features:\n",
    "    print('{0}, Miss Value {1}'.format(feature, df_training[feature].isnull().sum()))"
   ]
  },
  {
   "cell_type": "markdown",
   "metadata": {},
   "source": [
    "The missing values in Color are replaced with the most frequent category i.e. 'SILVER'.\n",
    "\n",
    "The missing values in Transmission are replaced with the most frequent category i.e. 'AUTO'.\n",
    "\n",
    "The missing values in Nationality are replaced with the most frequent category i.e. 'AMERICAN'.\n",
    "\n",
    "The missing values in Size are replaced with the most frequent category i.e. 'MEDIUM'.\n",
    "\n",
    "The missing values in TopThreeAmericanName are replaced with the most frequent category i.e. 'GM'.\n"
   ]
  },
  {
   "cell_type": "code",
   "execution_count": 21,
   "metadata": {},
   "outputs": [
    {
     "name": "stdout",
     "output_type": "stream",
     "text": [
      "(72983, 19)\n",
      "(48707, 18)\n"
     ]
    }
   ],
   "source": [
    "dict = {'Color': 'SILVER',\n",
    "        'Transmission': 'AUTO',\n",
    "        'Nationality': 'AMERICAN',\n",
    "        'Size': 'MEDIUM',\n",
    "        'TopThreeAmericanName': 'GM'}\n",
    "\n",
    "for df in [df_training, df_test]:\n",
    "    for feature in dict.keys():\n",
    "        df[feature] = df[feature].str.upper()\n",
    "        df[feature] = df[feature].fillna(dict[feature])\n",
    "\n",
    "print(df_training.shape)\n",
    "print(df_test.shape)"
   ]
  },
  {
   "cell_type": "code",
   "execution_count": 22,
   "metadata": {},
   "outputs": [
    {
     "name": "stdout",
     "output_type": "stream",
     "text": [
      "Auction, Miss Value 0\n",
      "Make, Miss Value 0\n",
      "Color, Miss Value 0\n",
      "Transmission, Miss Value 0\n",
      "Nationality, Miss Value 0\n",
      "Size, Miss Value 0\n",
      "TopThreeAmericanName, Miss Value 0\n"
     ]
    }
   ],
   "source": [
    "# double check any missing data\n",
    "for feature in categorical_features:\n",
    "    print('{0}, Miss Value {1}'.format(feature, df_training[feature].isnull().sum()))"
   ]
  },
  {
   "cell_type": "markdown",
   "metadata": {
    "collapsed": true
   },
   "source": [
    "# 3. Transformation"
   ]
  },
  {
   "cell_type": "markdown",
   "metadata": {},
   "source": [
    "For numerical values: fill missing values with median and scale them.\n",
    "\n",
    "For categorical values: use one-hot encoder method. The missing values have been preprocessed in the last section."
   ]
  },
  {
   "cell_type": "code",
   "execution_count": 23,
   "metadata": {
    "collapsed": true
   },
   "outputs": [],
   "source": [
    "from sklearn.pipeline import make_pipeline\n",
    "from sklearn.preprocessing import Imputer, StandardScaler, OneHotEncoder\n",
    "\n",
    "def num_pipe(df):\n",
    "    temp = Imputer(strategy = 'median').fit_transform(df[numerical_features])\n",
    "    temp = pd.DataFrame(temp)\n",
    "    temp = StandardScaler().fit_transform(temp)\n",
    "    df[numerical_features] = pd.DataFrame(temp, columns = numerical_features)\n",
    "    \n",
    "\n",
    "def cat_pipe(df):\n",
    "    temp = pd.get_dummies(df[categorical_features])\n",
    "    res = pd.concat([df[numerical_features], temp], axis = 1)\n",
    "    return res"
   ]
  },
  {
   "cell_type": "code",
   "execution_count": 24,
   "metadata": {},
   "outputs": [
    {
     "name": "stdout",
     "output_type": "stream",
     "text": [
      "(72983, 82)\n",
      "(48707, 82)\n"
     ]
    }
   ],
   "source": [
    "num_pipe(df_training)\n",
    "num_pipe(df_test)\n",
    "\n",
    "prepare_training = cat_pipe(df_training)\n",
    "prepare_test = cat_pipe(df_test)\n",
    "\n",
    "# some color and make are different in training and test datasets, drop them\n",
    "prepare_training.drop(['Make_HUMMER', 'Make_PLYMOUTH', 'Make_TOYOTA SCION'], axis = 1, inplace=True)\n",
    "prepare_test.drop(['Color_PINK'], axis = 1, inplace = True)\n",
    "\n",
    "print(prepare_training.shape)\n",
    "print(prepare_test.shape)"
   ]
  },
  {
   "cell_type": "markdown",
   "metadata": {},
   "source": [
    "# 4. Modeling"
   ]
  },
  {
   "cell_type": "markdown",
   "metadata": {},
   "source": [
    "Now we are ready to train a model and predict the required solution. There are 60+ predictive modelling algorithms to choose from. We must understand the type of problem and solution requirement to narrow down to a select few models which we can evaluate. Our problem is a classification and regression problem. We want to identify relationship between output (Is good or bad buy) with many features. \n",
    "\n",
    "Logistic Regression\n",
    "\n",
    "KNN or k-Nearest Neighbors\n",
    "\n",
    "Support Vector Machines\n",
    "\n",
    "Naive Bayes classifier\n",
    "\n",
    "Decision Tree\n",
    "\n",
    "Random Forrest\n",
    "\n",
    "Perceptron\n",
    "\n",
    "Artificial neural network"
   ]
  },
  {
   "cell_type": "code",
   "execution_count": 26,
   "metadata": {},
   "outputs": [],
   "source": [
    "from sklearn.cross_validation import train_test_split\n",
    "# machine learning\n",
    "from sklearn.linear_model import LogisticRegression\n",
    "from sklearn.svm import SVC, LinearSVC\n",
    "from sklearn.ensemble import RandomForestClassifier\n",
    "from sklearn.neighbors import KNeighborsClassifier\n",
    "from sklearn.naive_bayes import GaussianNB\n",
    "from sklearn.linear_model import Perceptron\n",
    "from sklearn.linear_model import SGDClassifier\n",
    "from sklearn.tree import DecisionTreeClassifier\n",
    "\n",
    "Y = training['IsBadBuy'].copy()\n",
    "X = prepare_training.copy()\n",
    "\n",
    "X_train, X_test, Y_train, Y_test = train_test_split(X, Y, train_size=0.75, test_size = 0.25, random_state = 33)"
   ]
  },
  {
   "cell_type": "markdown",
   "metadata": {},
   "source": [
    "## Logistic Regression"
   ]
  },
  {
   "cell_type": "code",
   "execution_count": 27,
   "metadata": {},
   "outputs": [
    {
     "name": "stdout",
     "output_type": "stream",
     "text": [
      "87.6\n"
     ]
    }
   ],
   "source": [
    "logreg = LogisticRegression()\n",
    "logreg.fit(X_train, Y_train)\n",
    "acc_log = round(logreg.score(X_test, Y_test) * 100, 2)\n",
    "print(acc_log)\n"
   ]
  },
  {
   "cell_type": "markdown",
   "metadata": {},
   "source": [
    "This is even worse than just predicting all 0s. Try other methods instead of simple logistic regression."
   ]
  },
  {
   "cell_type": "markdown",
   "metadata": {},
   "source": [
    "## Support Vector Machines"
   ]
  },
  {
   "cell_type": "code",
   "execution_count": null,
   "metadata": {
    "collapsed": true
   },
   "outputs": [],
   "source": [
    "svc = SVC()\n",
    "svc.fit(X_train, Y_train)\n",
    "acc_svc = round(svc.score(X_test, Y_test) * 100, 2)\n",
    "acc_svc"
   ]
  },
  {
   "cell_type": "markdown",
   "metadata": {},
   "source": [
    "## k-Nearest Neighbors"
   ]
  },
  {
   "cell_type": "code",
   "execution_count": null,
   "metadata": {},
   "outputs": [],
   "source": [
    "knn = KNeighborsClassifier(n_neighbors = 3)\n",
    "knn.fit(X_train, Y_train)\n",
    "acc_knn = round(knn.score(X_test, Y_test) * 100, 2)\n",
    "acc_knn"
   ]
  },
  {
   "cell_type": "markdown",
   "metadata": {},
   "source": [
    "## Gaussian Naive Bayes"
   ]
  },
  {
   "cell_type": "code",
   "execution_count": null,
   "metadata": {},
   "outputs": [],
   "source": [
    "gaussian = GaussianNB()\n",
    "gaussian.fit(X_train, Y_train)\n",
    "acc_gaussian = round(gaussian.score(X_test, Y_test) * 100, 2)\n",
    "acc_gaussian"
   ]
  },
  {
   "cell_type": "markdown",
   "metadata": {},
   "source": [
    "## Perceptron"
   ]
  },
  {
   "cell_type": "code",
   "execution_count": null,
   "metadata": {},
   "outputs": [],
   "source": [
    "perceptron = Perceptron()\n",
    "perceptron.fit(X_train, Y_train)\n",
    "acc_perceptron = round(perceptron.score(X_test, Y_test) * 100, 2)\n",
    "acc_perceptron"
   ]
  },
  {
   "cell_type": "markdown",
   "metadata": {},
   "source": [
    "## Linear SVC"
   ]
  },
  {
   "cell_type": "code",
   "execution_count": null,
   "metadata": {},
   "outputs": [],
   "source": [
    "linear_svc = LinearSVC()\n",
    "linear_svc.fit(X_train, Y_train)\n",
    "acc_linear_svc = round(linear_svc.score(X_test, Y_test) * 100, 2)\n",
    "acc_linear_svc"
   ]
  },
  {
   "cell_type": "markdown",
   "metadata": {},
   "source": [
    "## Stochastic Gradient Descent"
   ]
  },
  {
   "cell_type": "code",
   "execution_count": null,
   "metadata": {},
   "outputs": [],
   "source": [
    "sgd = SGDClassifier()\n",
    "sgd.fit(X_train, Y_train)\n",
    "acc_sgd = round(sgd.score(X_test, Y_test) * 100, 2)\n",
    "acc_sgd"
   ]
  },
  {
   "cell_type": "markdown",
   "metadata": {},
   "source": [
    "## Decision Tree"
   ]
  },
  {
   "cell_type": "code",
   "execution_count": null,
   "metadata": {},
   "outputs": [],
   "source": [
    "decision_tree = DecisionTreeClassifier()\n",
    "decision_tree.fit(X_train, Y_train)\n",
    "acc_decision_tree = round(decision_tree.score(X_test, Y_test) * 100, 2)\n",
    "acc_decision_tree"
   ]
  },
  {
   "cell_type": "markdown",
   "metadata": {},
   "source": [
    "## Random Forest"
   ]
  },
  {
   "cell_type": "code",
   "execution_count": null,
   "metadata": {},
   "outputs": [],
   "source": [
    "random_forest = RandomForestClassifier(n_estimators=100)\n",
    "random_forest.fit(X_train, Y_train)\n",
    "acc_random_forest = round(random_forest.score(X_test, Y_test) * 100, 2)\n",
    "acc_random_forest"
   ]
  },
  {
   "cell_type": "code",
   "execution_count": null,
   "metadata": {},
   "outputs": [],
   "source": [
    "models = pd.DataFrame({\n",
    "    'Model': ['Support Vector Machines', 'KNN', 'Logistic Regression', \n",
    "              'Random Forest', 'Naive Bayes', 'Perceptron', \n",
    "              'Stochastic Gradient Decent', 'Linear SVC', \n",
    "              'Decision Tree'],\n",
    "    'Score': [acc_svc, acc_knn, acc_log, \n",
    "              acc_random_forest, acc_gaussian, acc_perceptron, \n",
    "              acc_sgd, acc_linear_svc, acc_decision_tree]})\n",
    "models.sort_values(by='Score', ascending=False)"
   ]
  },
  {
   "cell_type": "code",
   "execution_count": null,
   "metadata": {
    "collapsed": true
   },
   "outputs": [],
   "source": []
  },
  {
   "cell_type": "markdown",
   "metadata": {},
   "source": [
    "A SelectKBest feature selection and a RandomForestClassifier are embedded in a pipeline. \n",
    "\n",
    "The best_Kfeatures function performs a grid seach to find the k-best features. \n",
    "\n",
    "The hyperparameters of the estimator are tuned using a RandomizedSearchCV with a default 3-fold cross-validation."
   ]
  },
  {
   "cell_type": "code",
   "execution_count": 62,
   "metadata": {},
   "outputs": [
    {
     "name": "stdout",
     "output_type": "stream",
     "text": [
      "(54737, 82)\n",
      "(18246, 82)\n"
     ]
    }
   ],
   "source": [
    "X = prepare_training.copy()\n",
    "Y = training['IsBadBuy'].copy()\n",
    "X_train, X_test, Y_train, Y_test = train_test_split(X, Y, train_size=0.75, test_size = 0.25, random_state = 33)\n",
    "print(X_train.shape)\n",
    "print(X_test.shape)"
   ]
  },
  {
   "cell_type": "code",
   "execution_count": 63,
   "metadata": {
    "collapsed": true
   },
   "outputs": [],
   "source": [
    "from scipy.stats import randint as sp_randint\n",
    "from sklearn.ensemble import RandomForestClassifier\n",
    "from sklearn.grid_search import GridSearchCV, RandomizedSearchCV\n",
    "from sklearn.feature_selection import SelectKBest\n",
    "from sklearn.pipeline import make_pipeline\n",
    "from sklearn.metrics import accuracy_score\n",
    "from sklearn.metrics import f1_score\n",
    "from sklearn.metrics import roc_auc_score\n",
    "\n",
    "import warnings\n",
    "warnings.filterwarnings('ignore')\n",
    "\n",
    "\n",
    "def tuned_clf(estimator,k,Xtrain,ytrain,pram_dist,ncv,njobs=1,scoring_method='None',**kwargs):\n",
    "    \"\"\"K: the number of features in SelectKBest method\n",
    "       Xtrain: training features\n",
    "       ytrain: traning labels \n",
    "       param dist: distribution parametes that are used in RandomizedSearchCV\n",
    "       ncv : number of cross-validation folds\n",
    "       This function will return the trained estimator\"\"\"\n",
    "    if kwargs:\n",
    "        clf = estimator(kwargs)\n",
    "    else:\n",
    "        clf = estimator\n",
    "    \n",
    "    if k == Xtrain.shape[1]:\n",
    "        pipe = make_pipeline(clf)\n",
    "    else:\n",
    "        pipe = make_pipeline(SelectKBest(k=k),clf)\n",
    "    \n",
    "    grid_clf = RandomizedSearchCV(pipe,param_distributions= param_dist,cv=ncv,n_jobs=njobs,scoring=scoring_method)\n",
    "    grid_clf.fit(Xtrain,ytrain) \n",
    "                                  \n",
    "    return  grid_clf\n",
    "\n",
    "def tuned_estimators(estimator,Xtrain,ytrain,Xtest,ytest,param_dist,n_features_list,ncv=5,njobs=1,scoring_method='None',\n",
    "                   verbose=False,**kwargs):\n",
    "    '''A kbest and a randomforestclassifier are embeded in a pipeline and a randomizedsearchCV tunes the\n",
    "     hyperparameters'''\n",
    "    models = defaultdict(str)\n",
    "    accuracy_scores = []\n",
    "    f1_scores = []\n",
    "    roc_auc_scores = []\n",
    "    nfeatures = []\n",
    "    for k in n_features_list:\n",
    "        nfeatures.append(k)\n",
    "        model_name = 'clf_k'+ str(k)\n",
    "        clf = tuned_clf(estimator,k,Xtrain,ytrain,param_dist,ncv,njobs,scoring_method,**kwargs)\n",
    "        models[model_name] = clf.best_estimator_\n",
    "        ypred = models[model_name].predict(Xtest)\n",
    "        accuracy_scores.append (accuracy_score(ypred,ytest))\n",
    "        f1_scores.append(f1_score(ypred,ytest))\n",
    "        roc_auc_scores.append(roc_auc_score(ypred,ytest))\n",
    "        if verbose:\n",
    "            print('%s best features: accuracy=%.4f, f1=%.4f, roc_auc=%.4f' % \n",
    "                  (k,accuracy_scores[-1],f1_scores[-1],roc_auc_scores[-1]))\n",
    "    plt.title('Effect of feature elimination on accuracy, f1, roc_auc scores')\n",
    "    plt.xlabel(\"K best features\")\n",
    "    plt.ylabel(\"Score\")\n",
    "    plt.xticks(nfeatures)\n",
    "    plt.grid(b=True)\n",
    "    plt.plot(nfeatures,accuracy_scores,'o-', color=\"r\",label=\"accuracy score\")\n",
    "    plt.plot(nfeatures,f1_scores,'o-', color=\"b\",label=\"f1 score\")\n",
    "    plt.plot(nfeatures,roc_auc_scores,'o-', color=\"g\",label=\"roc_auc score\")\n",
    "    plt.legend(loc=\"best\")\n",
    "    return models"
   ]
  },
  {
   "cell_type": "code",
   "execution_count": 64,
   "metadata": {
    "collapsed": true
   },
   "outputs": [],
   "source": [
    "from sklearn.metrics import confusion_matrix\n",
    "from sklearn.metrics import classification_report\n",
    "from sklearn.metrics import accuracy_score\n",
    "from sklearn.metrics import roc_curve\n",
    "from sklearn.metrics import precision_recall_curve\n",
    "from sklearn.learning_curve import learning_curve\n",
    "\n",
    "def Summary_Results(estimator,X_test,y_test):\n",
    "    ypred = estimator.predict(X_test)\n",
    "    print('The accuracy is: %.2f3 \\n' % accuracy_score(ypred,y_test))\n",
    "    print('Confusion_matrix:')\n",
    "    cm = confusion_matrix(y_test, ypred)\n",
    "    print('\\t\\t pridicted values')\n",
    "    print('\\t\\t 0 \\t 1')\n",
    "    print('actual 0: ','\\t',cm[0,0],'\\t',cm[0,1])\n",
    "    print('values 1: ','\\t',cm[1,0],'\\t',cm[1,1])\n",
    "    print('-------------------------------------------------------')\n",
    "    print('Classification_report: \\n')\n",
    "    print(classification_report(y_test,ypred,target_names=[\"class 0\",\"class 1\"]))\n",
    "\n",
    "\n",
    "\n",
    "def plot_roc_curve(estimator,Xtest,ytest,figsize=(8,5)):\n",
    "    plt.figure(figsize=figsize)\n",
    "    fpr_rf, tpr_rf, threshold = roc_curve(ytest,estimator.predict_proba(Xtest)[:,1])\n",
    "    plt.plot(fpr_rf, tpr_rf)\n",
    "    plt.xlabel('False positive rate',fontsize=16)\n",
    "    plt.ylabel('True positive rate',fontsize=16)\n",
    "    plt.title('ROC Curve',fontsize=18)\n",
    "\n",
    "    \n",
    "sns.set_context('notebook',font_scale=1)\n",
    "\n",
    "def plot_learning_curve(estimator, X, y, ylim=(0, 1.1), cv=5,\n",
    "                        n_jobs=-1, train_sizes=np.linspace(.1, 1.0, 5),\n",
    "                        scoring=None):\n",
    "    plt.title(\"Learning curves for %s\" % type(estimator).__name__)\n",
    "    plt.ylim(*ylim); plt.grid()\n",
    "    plt.xlabel(\"Training examples\")\n",
    "    plt.ylabel(\"Score\")\n",
    "    train_sizes, train_scores, validation_scores = learning_curve(\n",
    "        estimator, X, y, cv=cv, n_jobs=n_jobs, train_sizes=train_sizes,\n",
    "        scoring=scoring)\n",
    "    train_scores_mean = np.mean(train_scores, axis=1)\n",
    "    validation_scores_mean = np.mean(validation_scores, axis=1)\n",
    "    \n",
    "    plt.grid(b=True)\n",
    "    plt.plot(train_sizes, train_scores_mean, 'o-', color=\"r\",\n",
    "             label=\"Training score\")\n",
    "    plt.plot(train_sizes, validation_scores_mean, 'o-', color=\"g\",\n",
    "             label=\"Cross-validation score\")\n",
    "    plt.legend(loc=\"best\")\n",
    "    print(\"Best validation score: {:.4f}\".format(validation_scores_mean[-1]))"
   ]
  },
  {
   "cell_type": "markdown",
   "metadata": {},
   "source": [
    "## Benchmark"
   ]
  },
  {
   "cell_type": "code",
   "execution_count": 65,
   "metadata": {},
   "outputs": [
    {
     "name": "stdout",
     "output_type": "stream",
     "text": [
      "Extra Tree classifier: accuracy = 0.85, f1 score = 0.06 , roc = 0.51\n",
      "AdaBoost classifier: accuracy = 0.88, f1 score = 0.00 , roc = 0.44\n",
      "RandomForest classifier: accuracy = 0.87, f1 score = 0.02 , roc = 0.51\n"
     ]
    }
   ],
   "source": [
    "# models with out tunning\n",
    "from sklearn.ensemble import RandomForestClassifier\n",
    "from sklearn.ensemble import AdaBoostClassifier\n",
    "from sklearn.ensemble import ExtraTreesClassifier\n",
    "from sklearn.metrics import accuracy_score\n",
    "from sklearn.metrics import f1_score\n",
    "from sklearn.metrics import roc_auc_score\n",
    "from collections import defaultdict \n",
    "\n",
    "estimators = {'RandomForest':RandomForestClassifier(),'AdaBoost': AdaBoostClassifier(), 'Extra Tree': ExtraTreesClassifier()}\n",
    "clfs = defaultdict(str)\n",
    "\n",
    "for name,clf in estimators.items():\n",
    "    clf.fit(X_train.as_matrix(),y_train.as_matrix())\n",
    "    ypred = clf.predict(X_test.as_matrix())\n",
    "    accuracy_ = accuracy_score(ypred,y_test.as_matrix())\n",
    "    f1_ = f1_score(ypred,y_test.as_matrix())\n",
    "    roc_ = roc_auc_score(ypred,y_test.as_matrix())\n",
    "    print('%s classifier: accuracy = %.2f, f1 score = %.2f , roc = %.2f' %(name, accuracy_,f1_,roc_))\n",
    "    clfs[name +'_clf'] = clf"
   ]
  },
  {
   "cell_type": "code",
   "execution_count": 66,
   "metadata": {},
   "outputs": [
    {
     "name": "stdout",
     "output_type": "stream",
     "text": [
      "Extra Tree_clf:\n",
      "The accuracy is: 0.853 \n",
      "\n",
      "Confusion_matrix:\n",
      "\t\t pridicted values\n",
      "\t\t 0 \t 1\n",
      "actual 0:  \t 15447 \t 568\n",
      "values 1:  \t 2143 \t 88\n",
      "-------------------------------------------------------\n",
      "Classification_report: \n",
      "\n",
      "             precision    recall  f1-score   support\n",
      "\n",
      "    class 0       0.88      0.96      0.92     16015\n",
      "    class 1       0.13      0.04      0.06      2231\n",
      "\n",
      "avg / total       0.79      0.85      0.81     18246\n",
      "\n",
      "================================================================\n",
      "AdaBoost_clf:\n",
      "The accuracy is: 0.883 \n",
      "\n",
      "Confusion_matrix:\n",
      "\t\t pridicted values\n",
      "\t\t 0 \t 1\n",
      "actual 0:  \t 16013 \t 2\n",
      "values 1:  \t 2231 \t 0\n",
      "-------------------------------------------------------\n",
      "Classification_report: \n",
      "\n",
      "             precision    recall  f1-score   support\n",
      "\n",
      "    class 0       0.88      1.00      0.93     16015\n",
      "    class 1       0.00      0.00      0.00      2231\n",
      "\n",
      "avg / total       0.77      0.88      0.82     18246\n",
      "\n",
      "================================================================\n",
      "RandomForest_clf:\n",
      "The accuracy is: 0.873 \n",
      "\n",
      "Confusion_matrix:\n",
      "\t\t pridicted values\n",
      "\t\t 0 \t 1\n",
      "actual 0:  \t 15875 \t 140\n",
      "values 1:  \t 2206 \t 25\n",
      "-------------------------------------------------------\n",
      "Classification_report: \n",
      "\n",
      "             precision    recall  f1-score   support\n",
      "\n",
      "    class 0       0.88      0.99      0.93     16015\n",
      "    class 1       0.15      0.01      0.02      2231\n",
      "\n",
      "avg / total       0.79      0.87      0.82     18246\n",
      "\n",
      "================================================================\n"
     ]
    }
   ],
   "source": [
    "for name,clf in clfs.items():\n",
    "    print(name+':')\n",
    "    Summary_Results(clfs[name],X_test.as_matrix(),y_test.as_matrix())\n",
    "    print('================================================================')"
   ]
  },
  {
   "cell_type": "markdown",
   "metadata": {},
   "source": [
    "## RandomForestClassifier"
   ]
  },
  {
   "cell_type": "code",
   "execution_count": null,
   "metadata": {
    "collapsed": true
   },
   "outputs": [],
   "source": [
    "param_dist = {\"randomforestclassifier__n_estimators\": sp_randint(10,101),\n",
    "              \"randomforestclassifier__criterion\": [\"gini\", \"entropy\"],\n",
    "              \"randomforestclassifier__max_features\": ['auto', 'sqrt', 'log2']}\n",
    "rseed = np.random.seed(22)\n",
    "\n",
    "rf_args = {'random_state':rseed}\n",
    "n_features_list = [10,25,50,100,250,500,1000]\n",
    "rf_clf = tuned_estimators(RandomForestClassifier,X_train.as_matrix(),y_train.as_matrix(),X_test.as_matrix(),y_test.as_matrix()\n",
    "                           ,param_dist,n_features_list,ncv=5,njobs=5,scoring_method='roc_auc',verbose=True,**rf_args)"
   ]
  },
  {
   "cell_type": "code",
   "execution_count": 67,
   "metadata": {},
   "outputs": [
    {
     "ename": "NameError",
     "evalue": "name 'rf_clf' is not defined",
     "output_type": "error",
     "traceback": [
      "\u001b[1;31m---------------------------------------------------------------------------\u001b[0m",
      "\u001b[1;31mNameError\u001b[0m                                 Traceback (most recent call last)",
      "\u001b[1;32m<ipython-input-67-bf900ef9e7e2>\u001b[0m in \u001b[0;36m<module>\u001b[1;34m()\u001b[0m\n\u001b[1;32m----> 1\u001b[1;33m \u001b[0mrf_clf\u001b[0m\u001b[1;33m.\u001b[0m\u001b[0mkeys\u001b[0m\u001b[1;33m(\u001b[0m\u001b[1;33m)\u001b[0m\u001b[1;33m\u001b[0m\u001b[0m\n\u001b[0m",
      "\u001b[1;31mNameError\u001b[0m: name 'rf_clf' is not defined"
     ]
    }
   ],
   "source": [
    "rf_clf.keys()"
   ]
  }
 ],
 "metadata": {
  "kernelspec": {
   "display_name": "Python 3",
   "language": "python",
   "name": "python3"
  },
  "language_info": {
   "codemirror_mode": {
    "name": "ipython",
    "version": 3
   },
   "file_extension": ".py",
   "mimetype": "text/x-python",
   "name": "python",
   "nbconvert_exporter": "python",
   "pygments_lexer": "ipython3",
   "version": "3.5.4"
  }
 },
 "nbformat": 4,
 "nbformat_minor": 2
}
