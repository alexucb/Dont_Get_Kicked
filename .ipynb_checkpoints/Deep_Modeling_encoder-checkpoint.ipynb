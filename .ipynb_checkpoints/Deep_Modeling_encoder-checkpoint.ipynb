{
 "cells": [
  {
   "cell_type": "markdown",
   "metadata": {},
   "source": [
    "# Modeling\n"
   ]
  },
  {
   "cell_type": "code",
   "execution_count": 1,
   "metadata": {},
   "outputs": [
    {
     "name": "stderr",
     "output_type": "stream",
     "text": [
      "/home/wangruinju/anaconda3/lib/python3.5/site-packages/sklearn/cross_validation.py:41: DeprecationWarning: This module was deprecated in version 0.18 in favor of the model_selection module into which all the refactored classes and functions are moved. Also note that the interface of the new CV iterators are different from that of this module. This module will be removed in 0.20.\n",
      "  \"This module will be removed in 0.20.\", DeprecationWarning)\n"
     ]
    }
   ],
   "source": [
    "import pickle\n",
    "import seaborn as sns\n",
    "from sklearn.cross_validation import train_test_split\n",
    "import numpy as np\n",
    "import pandas as pd\n",
    "import os\n",
    "import seaborn as sns\n",
    "\n",
    "# to make this notebook's output stable across runs\n",
    "np.random.seed(42)\n",
    "\n",
    "# To plot pretty figures\n",
    "%matplotlib inline\n",
    "import matplotlib\n",
    "import matplotlib.pyplot as plt\n",
    "plt.rcParams['axes.labelsize'] = 14\n",
    "plt.rcParams['xtick.labelsize'] = 12\n",
    "plt.rcParams['ytick.labelsize'] = 12\n",
    "\n",
    "# Where to save the figures\n",
    "PROJECT_ROOT_DIR = \".\"\n",
    "\n",
    "def image_path(fig_id):\n",
    "    return os.path.join(PROJECT_ROOT_DIR, \"images\", fig_id)\n",
    "\n",
    "def save_fig(fig_id, tight_layout=True):\n",
    "    print(\"Saving figure\", fig_id)\n",
    "    if tight_layout:\n",
    "        plt.tight_layout()\n",
    "    plt.savefig(image_path(fig_id) + \".png\", format='png', dpi=300)\n"
   ]
  },
  {
   "cell_type": "code",
   "execution_count": 2,
   "metadata": {
    "collapsed": true
   },
   "outputs": [],
   "source": [
    "df_training = pickle.load(open('my_df_training.pickle', 'rb'))\n",
    "y = pickle.load(open('my_y.pickle', 'rb'))\n",
    "X_train, X_test, y_train, y_test = train_test_split(df_training, y)"
   ]
  },
  {
   "cell_type": "code",
   "execution_count": 3,
   "metadata": {},
   "outputs": [
    {
     "name": "stderr",
     "output_type": "stream",
     "text": [
      "/home/wangruinju/anaconda3/lib/python3.5/site-packages/sklearn/grid_search.py:42: DeprecationWarning: This module was deprecated in version 0.18 in favor of the model_selection module into which all the refactored classes and functions are moved. This module will be removed in 0.20.\n",
      "  DeprecationWarning)\n"
     ]
    }
   ],
   "source": [
    "from scipy.stats import randint as sp_randint\n",
    "from sklearn.ensemble import RandomForestClassifier\n",
    "from sklearn.grid_search import GridSearchCV, RandomizedSearchCV\n",
    "from sklearn.feature_selection import SelectKBest\n",
    "from sklearn.pipeline import make_pipeline\n",
    "from sklearn.metrics import accuracy_score\n",
    "from sklearn.metrics import f1_score\n",
    "from sklearn.metrics import roc_auc_score\n",
    "\n",
    "import warnings\n",
    "warnings.filterwarnings('ignore')\n",
    "\n",
    "\n",
    "def tuned_clf(estimator,k,Xtrain,ytrain,pram_dist,ncv,njobs=1,scoring_method='None',**kwargs):\n",
    "    \"\"\"K: the number of features in SelectKBest method\n",
    "       Xtrain: training features\n",
    "       ytrain: traning labels \n",
    "       param dist: distribution parametes that are used in RandomizedSearchCV\n",
    "       ncv : number of cross-validation folds\n",
    "       This function will return the trained estimator\"\"\"\n",
    "    if kwargs:\n",
    "        clf = estimator(kwargs)\n",
    "    else:\n",
    "        clf = estimator\n",
    "    \n",
    "    if k == Xtrain.shape[1]:\n",
    "        pipe = make_pipeline(clf)\n",
    "    else:\n",
    "        pipe = make_pipeline(SelectKBest(k=k),clf)\n",
    "    \n",
    "    grid_clf = RandomizedSearchCV(pipe,param_distributions= param_dist,cv=ncv,n_jobs=njobs,scoring=scoring_method)\n",
    "    grid_clf.fit(Xtrain,ytrain) \n",
    "                                  \n",
    "    return  grid_clf\n",
    "\n",
    "def tuned_estimators(estimator,Xtrain,ytrain,Xtest,ytest,param_dist,n_features_list,ncv=5,njobs=1,scoring_method='None',\n",
    "                   verbose=False,**kwargs):\n",
    "    '''A kbest and a randomforestclassifier are embeded in a pipeline and a randomizedsearchCV tunes the\n",
    "     hyperparameters'''\n",
    "    models = defaultdict(str)\n",
    "    accuracy_scores = []\n",
    "    f1_scores = []\n",
    "    roc_auc_scores = []\n",
    "    nfeatures = []\n",
    "    for k in n_features_list:\n",
    "        nfeatures.append(k)\n",
    "        model_name = 'clf_k'+ str(k)\n",
    "        clf = tuned_clf(estimator,k,Xtrain,ytrain,param_dist,ncv,njobs,scoring_method,**kwargs)\n",
    "        models[model_name] = clf.best_estimator_\n",
    "        ypred = models[model_name].predict(Xtest)\n",
    "        accuracy_scores.append (accuracy_score(ypred,ytest))\n",
    "        f1_scores.append(f1_score(ypred,ytest))\n",
    "        roc_auc_scores.append(roc_auc_score(ypred,ytest))\n",
    "        if verbose:\n",
    "            print('%s best features: accuracy=%.4f, f1=%.4f, roc_auc=%.4f' % \n",
    "                  (k,accuracy_scores[-1],f1_scores[-1],roc_auc_scores[-1]))\n",
    "    plt.title('Effect of feature elimination on accuracy, f1, roc_auc scores')\n",
    "    plt.xlabel(\"K best features\")\n",
    "    plt.ylabel(\"Score\")\n",
    "    plt.xticks(nfeatures)\n",
    "    plt.grid(b=True)\n",
    "    plt.plot(nfeatures,accuracy_scores,'o-', color=\"r\",label=\"accuracy score\")\n",
    "    plt.plot(nfeatures,f1_scores,'o-', color=\"b\",label=\"f1 score\")\n",
    "    plt.plot(nfeatures,roc_auc_scores,'o-', color=\"g\",label=\"roc_auc score\")\n",
    "    plt.legend(loc=\"best\")\n",
    "    return models"
   ]
  },
  {
   "cell_type": "code",
   "execution_count": 4,
   "metadata": {
    "collapsed": true
   },
   "outputs": [],
   "source": [
    "from sklearn.metrics import confusion_matrix\n",
    "from sklearn.metrics import classification_report\n",
    "from sklearn.metrics import accuracy_score\n",
    "\n",
    "def Summary_Results(estimator,X_test,y_test):\n",
    "    ypred = estimator.predict(X_test)\n",
    "    print('The accuracy is: %.2f3 \\n' % accuracy_score(ypred,y_test))\n",
    "    print('Confusion_matrix:')\n",
    "    cm = confusion_matrix(y_test, ypred)\n",
    "    print('\\t\\t pridicted values')\n",
    "    print('\\t\\t 0 \\t 1')\n",
    "    print('actual 0: ','\\t',cm[0,0],'\\t',cm[0,1])\n",
    "    print('values 1: ','\\t',cm[1,0],'\\t',cm[1,1])\n",
    "    print('-------------------------------------------------------')\n",
    "    print('Classification_report: \\n')\n",
    "    print(classification_report(y_test,ypred,target_names=[\"class 0\",\"class 1\"]))"
   ]
  },
  {
   "cell_type": "code",
   "execution_count": 5,
   "metadata": {},
   "outputs": [],
   "source": [
    "from sklearn.metrics import roc_curve\n",
    "from sklearn.metrics import precision_recall_curve\n",
    "\n",
    "def plot_roc_curve(estimator,Xtest,ytest,figsize=(8,5)):\n",
    "    plt.figure(figsize=figsize)\n",
    "    fpr_rf, tpr_rf, threshold = roc_curve(ytest,estimator.predict_proba(Xtest)[:,1])\n",
    "    plt.plot(fpr_rf, tpr_rf)\n",
    "    plt.xlabel('False positive rate',fontsize=16)\n",
    "    plt.ylabel('True positive rate',fontsize=16)\n",
    "    plt.title('ROC Curve',fontsize=18)\n"
   ]
  },
  {
   "cell_type": "code",
   "execution_count": 7,
   "metadata": {},
   "outputs": [
    {
     "name": "stdout",
     "output_type": "stream",
     "text": [
      "Extra Tree_clf\n",
      "                   pre       rec       spe        f1       geo       iba       sup\n",
      "\n",
      "          0       0.88      0.98      0.06      0.93      0.56      0.32     16015\n",
      "          1       0.35      0.06      0.98      0.11      0.56      0.29      2231\n",
      "\n",
      "avg / total       0.82      0.87      0.17      0.83      0.56      0.32     18246\n",
      "\n",
      "AdaBoost_clf\n",
      "                   pre       rec       spe        f1       geo       iba       sup\n",
      "\n",
      "          0       0.88      1.00      0.01      0.94      0.79      0.64     16015\n",
      "          1       0.71      0.01      1.00      0.02      0.79      0.62      2231\n",
      "\n",
      "avg / total       0.86      0.88      0.13      0.82      0.79      0.64     18246\n",
      "\n",
      "RandomForest_clf\n",
      "                   pre       rec       spe        f1       geo       iba       sup\n",
      "\n",
      "          0       0.88      0.99      0.06      0.93      0.62      0.40     16015\n",
      "          1       0.44      0.06      0.99      0.10      0.62      0.37      2231\n",
      "\n",
      "avg / total       0.83      0.88      0.17      0.83      0.62      0.40     18246\n",
      "\n"
     ]
    }
   ],
   "source": [
    "# models\n",
    "from sklearn.ensemble import RandomForestClassifier\n",
    "from sklearn.ensemble import AdaBoostClassifier\n",
    "from sklearn.ensemble import ExtraTreesClassifier\n",
    "from sklearn.metrics import accuracy_score\n",
    "from sklearn.metrics import f1_score\n",
    "from sklearn.metrics import roc_auc_score\n",
    "from imblearn.metrics import classification_report_imbalanced\n",
    "from collections import defaultdict\n",
    "\n",
    "estimators = {'RandomForest':RandomForestClassifier(),'AdaBoost': AdaBoostClassifier(), 'Extra Tree': ExtraTreesClassifier()}\n",
    "clfs = defaultdict(str)\n",
    "\n",
    "for name,clf in estimators.items():\n",
    "    clf.fit(X_train,y_train)\n",
    "    y_pred = clf.predict(X_test)\n",
    "    print(name + '_clf')\n",
    "    print(classification_report_imbalanced(y_test, y_pred))\n",
    "    clfs[name+'_clf'] = clf"
   ]
  },
  {
   "cell_type": "code",
   "execution_count": 8,
   "metadata": {},
   "outputs": [
    {
     "name": "stdout",
     "output_type": "stream",
     "text": [
      "Extra Tree_clf\n",
      "                   pre       rec       spe        f1       geo       iba       sup\n",
      "\n",
      "          0       0.91      0.67      0.55      0.77      0.41      0.18     16015\n",
      "          1       0.19      0.55      0.67      0.28      0.41      0.16      2231\n",
      "\n",
      "avg / total       0.82      0.65      0.56      0.71      0.41      0.18     18246\n",
      "\n",
      "AdaBoost_clf\n",
      "                   pre       rec       spe        f1       geo       iba       sup\n",
      "\n",
      "          0       0.92      0.63      0.63      0.75      0.42      0.19     16015\n",
      "          1       0.19      0.63      0.63      0.29      0.42      0.16      2231\n",
      "\n",
      "avg / total       0.83      0.63      0.63      0.69      0.42      0.19     18246\n",
      "\n",
      "RandomForest_clf\n",
      "                   pre       rec       spe        f1       geo       iba       sup\n",
      "\n",
      "          0       0.92      0.68      0.57      0.78      0.43      0.20     16015\n",
      "          1       0.20      0.57      0.68      0.29      0.43      0.17      2231\n",
      "\n",
      "avg / total       0.83      0.67      0.58      0.72      0.43      0.19     18246\n",
      "\n"
     ]
    }
   ],
   "source": [
    "# undersample\n",
    "from imblearn.under_sampling import RandomUnderSampler \n",
    "\n",
    "X_resampled, y_resampled = RandomUnderSampler().fit_sample(X_train, y_train)\n",
    "for name,clf in estimators.items():\n",
    "    clf.fit(X_resampled,y_resampled)\n",
    "    y_pred = clf.predict(X_test)\n",
    "    print(name + '_clf')\n",
    "    print(classification_report_imbalanced(y_test, y_pred))\n",
    "    clfs[name+'_undersample_clf'] = clf"
   ]
  },
  {
   "cell_type": "code",
   "execution_count": 9,
   "metadata": {},
   "outputs": [
    {
     "name": "stdout",
     "output_type": "stream",
     "text": [
      "Extra Tree_clf\n",
      "                   pre       rec       spe        f1       geo       iba       sup\n",
      "\n",
      "          0       0.89      0.95      0.14      0.92      0.51      0.28     16015\n",
      "          1       0.30      0.14      0.95      0.19      0.51      0.25      2231\n",
      "\n",
      "avg / total       0.82      0.85      0.24      0.83      0.51      0.28     18246\n",
      "\n",
      "AdaBoost_clf\n",
      "                   pre       rec       spe        f1       geo       iba       sup\n",
      "\n",
      "          0       0.90      0.81      0.35      0.85      0.43      0.19     16015\n",
      "          1       0.20      0.35      0.81      0.25      0.43      0.17      2231\n",
      "\n",
      "avg / total       0.81      0.75      0.40      0.78      0.43      0.19     18246\n",
      "\n",
      "RandomForest_clf\n",
      "                   pre       rec       spe        f1       geo       iba       sup\n",
      "\n",
      "          0       0.89      0.95      0.15      0.92      0.52      0.29     16015\n",
      "          1       0.30      0.15      0.95      0.20      0.52      0.25      2231\n",
      "\n",
      "avg / total       0.82      0.85      0.24      0.83      0.52      0.28     18246\n",
      "\n"
     ]
    }
   ],
   "source": [
    "# oversample\n",
    "from imblearn.over_sampling import SMOTE\n",
    "\n",
    "X_resampled, y_resampled = SMOTE().fit_sample(X_train, y_train)\n",
    "for name,clf in estimators.items():\n",
    "    clf.fit(X_resampled,y_resampled)\n",
    "    y_pred = clf.predict(X_test)\n",
    "    print(name + '_clf')\n",
    "    print(classification_report_imbalanced(y_test, y_pred))\n",
    "    clfs[name+'_oversample_clf'] = clf"
   ]
  },
  {
   "cell_type": "code",
   "execution_count": 10,
   "metadata": {},
   "outputs": [
    {
     "name": "stdout",
     "output_type": "stream",
     "text": [
      "RandomForest_oversample_clf:\n",
      "The accuracy is: 0.853 \n",
      "\n",
      "Confusion_matrix:\n",
      "\t\t pridicted values\n",
      "\t\t 0 \t 1\n",
      "actual 0:  \t 15274 \t 741\n",
      "values 1:  \t 1907 \t 324\n",
      "-------------------------------------------------------\n",
      "Classification_report: \n",
      "\n",
      "             precision    recall  f1-score   support\n",
      "\n",
      "    class 0       0.89      0.95      0.92     16015\n",
      "    class 1       0.30      0.15      0.20      2231\n",
      "\n",
      "avg / total       0.82      0.85      0.83     18246\n",
      "\n",
      "================================================================\n",
      "RandomForest_clf:\n",
      "The accuracy is: 0.853 \n",
      "\n",
      "Confusion_matrix:\n",
      "\t\t pridicted values\n",
      "\t\t 0 \t 1\n",
      "actual 0:  \t 15274 \t 741\n",
      "values 1:  \t 1907 \t 324\n",
      "-------------------------------------------------------\n",
      "Classification_report: \n",
      "\n",
      "             precision    recall  f1-score   support\n",
      "\n",
      "    class 0       0.89      0.95      0.92     16015\n",
      "    class 1       0.30      0.15      0.20      2231\n",
      "\n",
      "avg / total       0.82      0.85      0.83     18246\n",
      "\n",
      "================================================================\n",
      "Extra Tree_clf:\n",
      "The accuracy is: 0.853 \n",
      "\n",
      "Confusion_matrix:\n",
      "\t\t pridicted values\n",
      "\t\t 0 \t 1\n",
      "actual 0:  \t 15263 \t 752\n",
      "values 1:  \t 1912 \t 319\n",
      "-------------------------------------------------------\n",
      "Classification_report: \n",
      "\n",
      "             precision    recall  f1-score   support\n",
      "\n",
      "    class 0       0.89      0.95      0.92     16015\n",
      "    class 1       0.30      0.14      0.19      2231\n",
      "\n",
      "avg / total       0.82      0.85      0.83     18246\n",
      "\n",
      "================================================================\n",
      "RandomForest_undersample_clf:\n",
      "The accuracy is: 0.853 \n",
      "\n",
      "Confusion_matrix:\n",
      "\t\t pridicted values\n",
      "\t\t 0 \t 1\n",
      "actual 0:  \t 15274 \t 741\n",
      "values 1:  \t 1907 \t 324\n",
      "-------------------------------------------------------\n",
      "Classification_report: \n",
      "\n",
      "             precision    recall  f1-score   support\n",
      "\n",
      "    class 0       0.89      0.95      0.92     16015\n",
      "    class 1       0.30      0.15      0.20      2231\n",
      "\n",
      "avg / total       0.82      0.85      0.83     18246\n",
      "\n",
      "================================================================\n",
      "AdaBoost_clf:\n",
      "The accuracy is: 0.753 \n",
      "\n",
      "Confusion_matrix:\n",
      "\t\t pridicted values\n",
      "\t\t 0 \t 1\n",
      "actual 0:  \t 12928 \t 3087\n",
      "values 1:  \t 1454 \t 777\n",
      "-------------------------------------------------------\n",
      "Classification_report: \n",
      "\n",
      "             precision    recall  f1-score   support\n",
      "\n",
      "    class 0       0.90      0.81      0.85     16015\n",
      "    class 1       0.20      0.35      0.25      2231\n",
      "\n",
      "avg / total       0.81      0.75      0.78     18246\n",
      "\n",
      "================================================================\n",
      "AdaBoost_oversample_clf:\n",
      "The accuracy is: 0.753 \n",
      "\n",
      "Confusion_matrix:\n",
      "\t\t pridicted values\n",
      "\t\t 0 \t 1\n",
      "actual 0:  \t 12928 \t 3087\n",
      "values 1:  \t 1454 \t 777\n",
      "-------------------------------------------------------\n",
      "Classification_report: \n",
      "\n",
      "             precision    recall  f1-score   support\n",
      "\n",
      "    class 0       0.90      0.81      0.85     16015\n",
      "    class 1       0.20      0.35      0.25      2231\n",
      "\n",
      "avg / total       0.81      0.75      0.78     18246\n",
      "\n",
      "================================================================\n",
      "AdaBoost_undersample_clf:\n",
      "The accuracy is: 0.753 \n",
      "\n",
      "Confusion_matrix:\n",
      "\t\t pridicted values\n",
      "\t\t 0 \t 1\n",
      "actual 0:  \t 12928 \t 3087\n",
      "values 1:  \t 1454 \t 777\n",
      "-------------------------------------------------------\n",
      "Classification_report: \n",
      "\n",
      "             precision    recall  f1-score   support\n",
      "\n",
      "    class 0       0.90      0.81      0.85     16015\n",
      "    class 1       0.20      0.35      0.25      2231\n",
      "\n",
      "avg / total       0.81      0.75      0.78     18246\n",
      "\n",
      "================================================================\n",
      "Extra Tree_undersample_clf:\n",
      "The accuracy is: 0.853 \n",
      "\n",
      "Confusion_matrix:\n",
      "\t\t pridicted values\n",
      "\t\t 0 \t 1\n",
      "actual 0:  \t 15263 \t 752\n",
      "values 1:  \t 1912 \t 319\n",
      "-------------------------------------------------------\n",
      "Classification_report: \n",
      "\n",
      "             precision    recall  f1-score   support\n",
      "\n",
      "    class 0       0.89      0.95      0.92     16015\n",
      "    class 1       0.30      0.14      0.19      2231\n",
      "\n",
      "avg / total       0.82      0.85      0.83     18246\n",
      "\n",
      "================================================================\n",
      "Extra Tree_oversample_clf:\n",
      "The accuracy is: 0.853 \n",
      "\n",
      "Confusion_matrix:\n",
      "\t\t pridicted values\n",
      "\t\t 0 \t 1\n",
      "actual 0:  \t 15263 \t 752\n",
      "values 1:  \t 1912 \t 319\n",
      "-------------------------------------------------------\n",
      "Classification_report: \n",
      "\n",
      "             precision    recall  f1-score   support\n",
      "\n",
      "    class 0       0.89      0.95      0.92     16015\n",
      "    class 1       0.30      0.14      0.19      2231\n",
      "\n",
      "avg / total       0.82      0.85      0.83     18246\n",
      "\n",
      "================================================================\n"
     ]
    }
   ],
   "source": [
    "for name,clf in clfs.items():\n",
    "    print(name+':')\n",
    "    Summary_Results(clfs[name],X_test,y_test)\n",
    "    print('================================================================')"
   ]
  },
  {
   "cell_type": "markdown",
   "metadata": {},
   "source": [
    "## RandomForestClassifier"
   ]
  },
  {
   "cell_type": "code",
   "execution_count": 11,
   "metadata": {},
   "outputs": [
    {
     "name": "stdout",
     "output_type": "stream",
     "text": [
      "10 best features: accuracy=0.8162, f1=0.2665, roc_auc=0.5791\n",
      "15 best features: accuracy=0.8408, f1=0.2603, roc_auc=0.5988\n",
      "20 best features: accuracy=0.8585, f1=0.2218, roc_auc=0.6150\n"
     ]
    },
    {
     "data": {
      "image/png": "[encoded data removed]",
      "text/plain": [
       "<matplotlib.figure.Figure at 0x7f926df76898>"
      ]
     },
     "metadata": {},
     "output_type": "display_data"
    }
   ],
   "source": [
    "# the following all using regular method or oversampling method\n",
    "\n",
    "# if has time to run\n",
    "from imblearn.over_sampling import SMOTE\n",
    "smote = SMOTE(kind='regular')\n",
    "X_train, y_train = smote.fit_sample(X_train, y_train)\n",
    "\n",
    "# if has time to run\n",
    "# from imblearn.combine import SMOTEENN\n",
    "# X_train, y_train = SENN.fit_sample(X_train, y_train)\n",
    "\n",
    "param_dist = {\"randomforestclassifier__n_estimators\": sp_randint(10,101),\n",
    "              \"randomforestclassifier__criterion\": [\"gini\", \"entropy\"],\n",
    "              \"randomforestclassifier__max_features\": ['auto', 'sqrt', 'log2']}\n",
    "rseed = np.random.seed(22)\n",
    "\n",
    "rf_args = {'random_state':rseed}\n",
    "n_features_list = [10, 15, 20]\n",
    "rf_clf = tuned_estimators(RandomForestClassifier, X_train, y_train, X_test, y_test, \n",
    "                          param_dist, n_features_list, ncv=5, njobs=5,\n",
    "                          scoring_method='roc_auc',verbose=True,**rf_args)"
   ]
  },
  {
   "cell_type": "code",
   "execution_count": 12,
   "metadata": {},
   "outputs": [
    {
     "name": "stdout",
     "output_type": "stream",
     "text": [
      "The accuracy is: 0.863 \n",
      "\n",
      "Confusion_matrix:\n",
      "\t\t pridicted values\n",
      "\t\t 0 \t 1\n",
      "actual 0:  \t 15296 \t 719\n",
      "values 1:  \t 1863 \t 368\n",
      "-------------------------------------------------------\n",
      "Classification_report: \n",
      "\n",
      "             precision    recall  f1-score   support\n",
      "\n",
      "    class 0       0.89      0.96      0.92     16015\n",
      "    class 1       0.34      0.16      0.22      2231\n",
      "\n",
      "avg / total       0.82      0.86      0.84     18246\n",
      "\n"
     ]
    }
   ],
   "source": [
    "Summary_Results(rf_clf['clf_k20'],X_test, y_test)"
   ]
  },
  {
   "cell_type": "code",
   "execution_count": 13,
   "metadata": {},
   "outputs": [
    {
     "data": {
      "image/png": "[encoded data removed]",
      "text/plain": [
       "<matplotlib.figure.Figure at 0x7f926e649ba8>"
      ]
     },
     "metadata": {},
     "output_type": "display_data"
    }
   ],
   "source": [
    "plot_roc_curve(rf_clf['clf_k20'], X_test, y_test)"
   ]
  },
  {
   "cell_type": "markdown",
   "metadata": {},
   "source": [
    "## AdaBoost"
   ]
  },
  {
   "cell_type": "code",
   "execution_count": 20,
   "metadata": {},
   "outputs": [
    {
     "name": "stdout",
     "output_type": "stream",
     "text": [
      "10 best features: accuracy=0.7331, f1=0.2901, roc_auc=0.5621\n",
      "15 best features: accuracy=0.7563, f1=0.2775, roc_auc=0.5608\n",
      "20 best features: accuracy=0.7669, f1=0.2498, roc_auc=0.5515\n"
     ]
    },
    {
     "data": {
      "image/png": "[encoded data removed]",
      "text/plain": [
       "<matplotlib.figure.Figure at 0x7f926a275390>"
      ]
     },
     "metadata": {},
     "output_type": "display_data"
    }
   ],
   "source": [
    "from sklearn.ensemble import AdaBoostClassifier\n",
    "\n",
    "adaboost_args = {'random_state':rseed}\n",
    "param_dist = {'adaboostclassifier__n_estimators': sp_randint(10,101), \n",
    "              'adaboostclassifier__learning_rate': [0.0001,0.001,0.01,0.1,1.0,2.0]}\n",
    "\n",
    "n_features_list = [10, 15, 20]\n",
    "clf = AdaBoostClassifier(random_state= rseed)\n",
    "\n",
    "adb_clf = tuned_estimators(clf, X_train, y_train, X_test, y_test,  \n",
    "                           param_dist, n_features_list, ncv=5, njobs=5,\n",
    "                           scoring_method='roc_auc',verbose=True)"
   ]
  },
  {
   "cell_type": "code",
   "execution_count": 21,
   "metadata": {},
   "outputs": [
    {
     "name": "stdout",
     "output_type": "stream",
     "text": [
      "The accuracy is: 0.773 \n",
      "\n",
      "Confusion_matrix:\n",
      "\t\t pridicted values\n",
      "\t\t 0 \t 1\n",
      "actual 0:  \t 13285 \t 2730\n",
      "values 1:  \t 1523 \t 708\n",
      "-------------------------------------------------------\n",
      "Classification_report: \n",
      "\n",
      "             precision    recall  f1-score   support\n",
      "\n",
      "    class 0       0.90      0.83      0.86     16015\n",
      "    class 1       0.21      0.32      0.25      2231\n",
      "\n",
      "avg / total       0.81      0.77      0.79     18246\n",
      "\n"
     ]
    }
   ],
   "source": [
    "Summary_Results(adb_clf['clf_k20'], X_test, y_test)"
   ]
  },
  {
   "cell_type": "code",
   "execution_count": 22,
   "metadata": {},
   "outputs": [
    {
     "data": {
      "image/png": "[encoded data removed]",
      "text/plain": [
       "<matplotlib.figure.Figure at 0x7f92562ec8d0>"
      ]
     },
     "metadata": {},
     "output_type": "display_data"
    }
   ],
   "source": [
    "plot_roc_curve(adb_clf['clf_k20'], X_test, y_test)"
   ]
  },
  {
   "cell_type": "markdown",
   "metadata": {},
   "source": [
    "#### Enforcing max depth = 5"
   ]
  },
  {
   "cell_type": "code",
   "execution_count": 23,
   "metadata": {},
   "outputs": [
    {
     "name": "stdout",
     "output_type": "stream",
     "text": [
      "10 best features: accuracy=0.7592, f1=0.2620, roc_auc=0.5548\n",
      "15 best features: accuracy=0.8718, f1=0.1144, roc_auc=0.6258\n",
      "20 best features: accuracy=0.8503, f1=0.2073, roc_auc=0.5920\n"
     ]
    },
    {
     "data": {
      "image/png": "[encoded data removed]",
      "text/plain": [
       "<matplotlib.figure.Figure at 0x7f926a27b908>"
      ]
     },
     "metadata": {},
     "output_type": "display_data"
    }
   ],
   "source": [
    "from sklearn.ensemble import AdaBoostClassifier\n",
    "from sklearn.tree import DecisionTreeClassifier\n",
    "\n",
    "rseed = np.random.seed(22)\n",
    "\n",
    "adaboost_args = {'random_state':rseed}\n",
    "param_dist = {'adaboostclassifier__n_estimators': sp_randint(10,101), \n",
    "              'adaboostclassifier__learning_rate': [0.0001, 0.001, 0.01, 0.1, 1.0, 2.0]}\n",
    "\n",
    "clf = AdaBoostClassifier(DecisionTreeClassifier(max_depth=5, random_state= rseed),random_state= rseed)\n",
    "\n",
    "n_features_list = [10, 15, 20]\n",
    "adb_clf_depth5 = tuned_estimators(clf, X_train, y_train, X_test, y_test, \n",
    "                                  param_dist, n_features_list, ncv=5, njobs=6,\n",
    "                                  scoring_method='roc_auc',verbose=True)"
   ]
  },
  {
   "cell_type": "code",
   "execution_count": 24,
   "metadata": {},
   "outputs": [
    {
     "name": "stdout",
     "output_type": "stream",
     "text": [
      "The accuracy is: 0.853 \n",
      "\n",
      "Confusion_matrix:\n",
      "\t\t pridicted values\n",
      "\t\t 0 \t 1\n",
      "actual 0:  \t 15158 \t 857\n",
      "values 1:  \t 1874 \t 357\n",
      "-------------------------------------------------------\n",
      "Classification_report: \n",
      "\n",
      "             precision    recall  f1-score   support\n",
      "\n",
      "    class 0       0.89      0.95      0.92     16015\n",
      "    class 1       0.29      0.16      0.21      2231\n",
      "\n",
      "avg / total       0.82      0.85      0.83     18246\n",
      "\n"
     ]
    }
   ],
   "source": [
    "Summary_Results(adb_clf_depth5['clf_k20'], X_test, y_test)"
   ]
  },
  {
   "cell_type": "code",
   "execution_count": 25,
   "metadata": {},
   "outputs": [
    {
     "data": {
      "image/png": "[encoded data removed]",
      "text/plain": [
       "<matplotlib.figure.Figure at 0x7f9254a15ac8>"
      ]
     },
     "metadata": {},
     "output_type": "display_data"
    }
   ],
   "source": [
    "plot_roc_curve(adb_clf_depth5['clf_k20'], X_test, y_test)"
   ]
  },
  {
   "cell_type": "markdown",
   "metadata": {},
   "source": [
    "## Ensemble Learning"
   ]
  },
  {
   "cell_type": "code",
   "execution_count": 39,
   "metadata": {},
   "outputs": [],
   "source": [
    "import numpy as np\n",
    "from sklearn.cross_validation import KFold\n",
    "from sklearn.metrics import classification_report, accuracy_score, confusion_matrix\n",
    "from copy import copy\n",
    "\n",
    "def get_predictions(model, X):\n",
    "    if hasattr(model, 'predict_proba'):\n",
    "        pred = model.predict_proba(X)\t\n",
    "    else:\n",
    "        pred = model.predict(X)\n",
    "\n",
    "    if len(pred.shape) == 1:  # for 1-d ouputs\n",
    "            pred = pred[:,None]\n",
    "\n",
    "    return pred\n",
    "\n",
    "class StackedGeneralizer(object):\n",
    "    \"\"\"Base class for stacked generalization classifier models\n",
    "    \"\"\"\n",
    "\n",
    "    def __init__(self, base_models=None, blending_model=None, n_folds=5, verbose=True):\n",
    "        \"\"\"\n",
    "        Stacked Generalizer Classifier\n",
    "\n",
    "        Trains a series of base models using K-fold cross-validation, then combines\n",
    "        the predictions of each model into a set of features that are used to train\n",
    "        a high-level classifier model. \n",
    "\n",
    "        Parameters\n",
    "        -----------\n",
    "        base_models: list of classifier models\n",
    "            Each model must have a .fit and .predict_proba/.predict method a'la\n",
    "            sklearn\n",
    "        blending_model: object\n",
    "            A classifier model used to aggregate the outputs of the trained base\n",
    "            models. Must have a .fit and .predict_proba/.predict method\n",
    "        n_folds: int\n",
    "            The number of K-folds to use in =cross-validated model training\n",
    "        verbose: boolean\n",
    "\n",
    "        Example\n",
    "        -------\n",
    "\n",
    "        from sklearn.datasets import load_digits\n",
    "        from stacked_generalizer import StackedGeneralizer\n",
    "        from sklearn.ensemble import RandomForestClassifier, ExtraTreesClassifier\n",
    "        from sklearn.linear_model import LogisticRegression\n",
    "        import numpy as np\n",
    "\n",
    "        logger = Logger('test_stacked_generalizer')\n",
    "\n",
    "        VERBOSE = True\n",
    "        N_FOLDS = 5\n",
    "\n",
    "        # load data and shuffle observations\n",
    "        data = load_digits()\n",
    "\n",
    "        X = data.data\n",
    "        y = data.target\n",
    "\n",
    "        shuffle_idx = np.random.permutation(y.size)\n",
    "\n",
    "        X = X[shuffle_idx]\n",
    "        y = y[shuffle_idx]\n",
    "\n",
    "        # hold out 20 percent of data for testing accuracy\n",
    "        n_train = round(X.shape[0]*.8)\n",
    "\n",
    "        # define base models\n",
    "        base_models = [RandomForestClassifier(n_estimators=100, n_jobs=-1, criterion='gini'),\n",
    "                       RandomForestClassifier(n_estimators=100, n_jobs=-1, criterion='entropy'),\n",
    "                       ExtraTreesClassifier(n_estimators=100, n_jobs=-1, criterion='gini')]\n",
    "\n",
    "        # define blending model\n",
    "        blending_model = LogisticRegression()\n",
    "\n",
    "        # initialize multi-stage model\n",
    "        sg = StackedGeneralizer(base_models, blending_model, \n",
    "                                n_folds=N_FOLDS, verbose=VERBOSE)\n",
    "\n",
    "        # fit model\n",
    "        sg.fit(X[:n_train],y[:n_train])\n",
    "\n",
    "        # test accuracy\n",
    "        pred = sg.predict(X[n_train:])\n",
    "        pred_classes = [np.argmax(p) for p in pred]\n",
    "\n",
    "        _ = sg.evaluate(y[n_train:], pred_classes)\n",
    "\n",
    "                     precision    recall  f1-score   support\n",
    "\n",
    "                  0       0.97      1.00      0.99        33\n",
    "                  1       0.97      1.00      0.99        38\n",
    "                  2       1.00      1.00      1.00        42\n",
    "                  3       1.00      0.98      0.99        41\n",
    "                  4       0.97      0.94      0.95        32\n",
    "                  5       0.95      0.98      0.96        41\n",
    "                  6       1.00      0.95      0.97        37\n",
    "                  7       0.94      0.97      0.96        34\n",
    "                  8       0.94      0.94      0.94        34\n",
    "                  9       0.96      0.96      0.96        27\n",
    "\n",
    "        avg / total       0.97      0.97      0.97       359\n",
    "        \"\"\"\n",
    "        self.base_models = base_models\n",
    "        self.blending_model = blending_model\n",
    "        self.n_folds = n_folds\n",
    "        self.verbose = verbose\n",
    "        self.base_models_cv = None\n",
    "\n",
    "    def fit_base_models(self, X, y):\n",
    "        if self.verbose:\n",
    "            print('Fitting Base Models...')\n",
    "\n",
    "        kf = list(KFold(y.shape[0], self.n_folds))\n",
    "\n",
    "        self.base_models_cv = {}\n",
    "\n",
    "        for i, model in enumerate(self.base_models):\n",
    "\n",
    "            model_name = \"model %02d: %s\" % (i+1, model.__repr__())\n",
    "            if self.verbose:\n",
    "                print('Fitting %s' % model_name)\n",
    "\n",
    "            # run stratified CV for each model\n",
    "            self.base_models_cv[model_name] = []\t\t\t\n",
    "            for j, (train_idx, test_idx) in enumerate(kf):\n",
    "                if self.verbose:\n",
    "                    print('Fold %d' % (j + 1))\n",
    "\n",
    "                X_train = X[train_idx]\n",
    "                y_train = y[train_idx]\n",
    "\n",
    "                model.fit(X_train, y_train)\n",
    "\n",
    "                # add trained model to list of CV'd models\n",
    "                self.base_models_cv[model_name].append(copy(model))\n",
    "\n",
    "    def transform_base_models(self, X):\n",
    "        # predict via model averaging\n",
    "        predictions = []\n",
    "        for key in sorted(self.base_models_cv.keys()):\n",
    "            cv_predictions = None\n",
    "            n_models = len(self.base_models_cv[key])\n",
    "            for i, model in enumerate(self.base_models_cv[key]):\n",
    "                model_predictions = get_predictions(model, X)\n",
    "\n",
    "                if cv_predictions is None:\n",
    "                    cv_predictions = np.zeros((n_models, X.shape[0], model_predictions.shape[1]))\n",
    "\n",
    "                cv_predictions[i,:,:] = model_predictions\n",
    "\n",
    "            # perform model averaging and add to features\n",
    "            predictions.append(cv_predictions.mean(0))\n",
    "\n",
    "        # concat all features\n",
    "        predictions = np.hstack(predictions)\n",
    "        return predictions\n",
    "\n",
    "    def fit_transform_base_models(self, X, y):\n",
    "        self.fit_base_models(X, y)\n",
    "        return self.transform_base_models(X)\n",
    "\n",
    "    def fit_blending_model(self, X_blend, y):\n",
    "        if self.verbose:\n",
    "            model_name = \"%s\" % self.blending_model.__repr__()\n",
    "            print('Fitting Blending Model:\\n%s' % model_name)\n",
    "\n",
    "        kf = list(KFold(y.shape[0], self.n_folds))\n",
    "        # run  CV \n",
    "        self.blending_model_cv = []\n",
    "\n",
    "        for j, (train_idx, test_idx) in enumerate(kf):\n",
    "            if self.verbose:\n",
    "                print('Fold %d' % j)\n",
    "\n",
    "            X_train = X_blend[train_idx]\n",
    "            y_train = y[train_idx]\n",
    "\n",
    "            model = copy(self.blending_model)\n",
    "\n",
    "            model.fit(X_train, y_train)\n",
    "\n",
    "            # add trained model to list of CV'd models\n",
    "            self.blending_model_cv.append(model)\n",
    "\n",
    "    def transform_blending_model(self, X_blend):\n",
    "\n",
    "        # make predictions from averaged models\n",
    "        predictions = []\n",
    "        n_models = len(self.blending_model_cv)\n",
    "        for i, model in enumerate(self.blending_model_cv):\n",
    "            cv_predictions = None\n",
    "            model_predictions = get_predictions(model, X_blend)\n",
    "\n",
    "            if cv_predictions is None:\n",
    "                cv_predictions = np.zeros((n_models, X_blend.shape[0], model_predictions.shape[1]))\n",
    "\n",
    "            cv_predictions[i,:,:] = model_predictions\n",
    "\n",
    "        # perform model averaging to get predictions\n",
    "        predictions = cv_predictions.mean(0)\n",
    "        return predictions\n",
    "\n",
    "    def predict(self, X):\n",
    "        # perform model averaging to get predictions\n",
    "        X_blend = self.transform_base_models(X)\n",
    "        predictions = self.transform_blending_model(X_blend)\n",
    "\n",
    "        return predictions\n",
    "\n",
    "    def fit(self, X, y):\n",
    "        X_blend = self.fit_transform_base_models(X, y)\n",
    "        self.fit_blending_model(X_blend, y)\n",
    "\n",
    "    def evaluate(self, y, y_pred):\n",
    "        print(classification_report(y, y_pred))\n",
    "        print('Confusion Matrix:')\n",
    "        print(confusion_matrix(y, y_pred))\n",
    "        return accuracy_score(y, y_pred)"
   ]
  },
  {
   "cell_type": "code",
   "execution_count": 44,
   "metadata": {},
   "outputs": [
    {
     "name": "stdout",
     "output_type": "stream",
     "text": [
      "Fitting Base Models...\n",
      "Fitting model 01: Pipeline(memory=None,\n",
      "     steps=[('selectkbest', SelectKBest(k=20, score_func=<function f_classif at 0x7f9270cfc378>)), ('randomforestclassifier', RandomForestClassifier(bootstrap=True, class_weight=None, criterion='entropy',\n",
      "            max_depth=None, max_features='log2', max_leaf_nodes=None,\n",
      "            min_impurity_decre...n_jobs=1,\n",
      "            oob_score=False, random_state=None, verbose=0,\n",
      "            warm_start=False))])\n",
      "Fold 1\n",
      "Fold 2\n",
      "Fold 3\n",
      "Fold 4\n",
      "Fold 5\n",
      "Fitting model 02: Pipeline(memory=None,\n",
      "     steps=[('selectkbest', SelectKBest(k=20, score_func=<function f_classif at 0x7f9270cfc378>)), ('adaboostclassifier', AdaBoostClassifier(algorithm='SAMME.R',\n",
      "          base_estimator=DecisionTreeClassifier(class_weight=None, criterion='gini', max_depth=5,\n",
      "            max_features=None, max_leaf_nodes...ne,\n",
      "            splitter='best'),\n",
      "          learning_rate=1.0, n_estimators=80, random_state=None))])\n",
      "Fold 1\n",
      "Fold 2\n",
      "Fold 3\n",
      "Fold 4\n",
      "Fold 5\n",
      "Fitting model 03: ExtraTreesClassifier(bootstrap=False, class_weight=None, criterion='gini',\n",
      "           max_depth=None, max_features='auto', max_leaf_nodes=None,\n",
      "           min_impurity_decrease=0.0, min_impurity_split=None,\n",
      "           min_samples_leaf=1, min_samples_split=2,\n",
      "           min_weight_fraction_leaf=0.0, n_estimators=100, n_jobs=4,\n",
      "           oob_score=False, random_state=None, verbose=0, warm_start=False)\n",
      "Fold 1\n",
      "Fold 2\n",
      "Fold 3\n",
      "Fold 4\n",
      "Fold 5\n",
      "Fitting Blending Model:\n",
      "LogisticRegression(C=1.0, class_weight=None, dual=False, fit_intercept=True,\n",
      "          intercept_scaling=1, max_iter=100, multi_class='ovr', n_jobs=1,\n",
      "          penalty='l2', random_state=None, solver='liblinear', tol=0.0001,\n",
      "          verbose=0, warm_start=False)\n",
      "Fold 0\n",
      "Fold 1\n",
      "Fold 2\n",
      "Fold 3\n",
      "Fold 4\n"
     ]
    }
   ],
   "source": [
    "from sklearn.ensemble import RandomForestClassifier, ExtraTreesClassifier\n",
    "from sklearn.linear_model import LogisticRegression\n",
    "\n",
    "\n",
    "base_models = [rf_clf['clf_k20'],\n",
    "               adb_clf_depth5['clf_k20'],\n",
    "               ExtraTreesClassifier(n_estimators=100, n_jobs=4, criterion='gini')]\n",
    "\n",
    "blending_model = LogisticRegression()\n",
    "\n",
    "sg = StackedGeneralizer(base_models, blending_model, n_folds=5, verbose=True)\n",
    "sg.fit(X_train, y_train)"
   ]
  },
  {
   "cell_type": "code",
   "execution_count": 45,
   "metadata": {},
   "outputs": [
    {
     "name": "stdout",
     "output_type": "stream",
     "text": [
      "             precision    recall  f1-score   support\n",
      "\n",
      "          0       0.89      0.97      0.93     16015\n",
      "          1       0.39      0.14      0.21      2231\n",
      "\n",
      "avg / total       0.83      0.87      0.84     18246\n",
      "\n",
      "Confusion Matrix:\n",
      "[[15523   492]\n",
      " [ 1918   313]]\n"
     ]
    }
   ],
   "source": [
    "pred = sg.predict(X_test)\n",
    "pred_classes = [np.argmax(p) for p in pred]\n",
    "_ = sg.evaluate(y_test, pred_classes)"
   ]
  },
  {
   "cell_type": "code",
   "execution_count": null,
   "metadata": {
    "collapsed": true
   },
   "outputs": [],
   "source": []
  }
 ],
 "metadata": {
  "celltoolbar": "Hide code",
  "kernelspec": {
   "display_name": "Python 3",
   "language": "python",
   "name": "python3"
  },
  "language_info": {
   "codemirror_mode": {
    "name": "ipython",
    "version": 3
   },
   "file_extension": ".py",
   "mimetype": "text/x-python",
   "name": "python",
   "nbconvert_exporter": "python",
   "pygments_lexer": "ipython3",
   "version": "3.5.4"
  }
 },
 "nbformat": 4,
 "nbformat_minor": 1
}
